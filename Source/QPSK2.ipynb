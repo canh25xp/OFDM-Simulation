{
 "cells": [
  {
   "cell_type": "code",
   "execution_count": 1,
   "metadata": {},
   "outputs": [],
   "source": [
    "import numpy as np\n",
    "import matplotlib.pyplot as plt\n",
    "from numpy import pi as PI\n",
    "from numpy import sin, cos, exp\n",
    "from OFDM.channel import *\n",
    "from OFDM.helper import *"
   ]
  },
  {
   "cell_type": "code",
   "execution_count": 2,
   "metadata": {},
   "outputs": [],
   "source": [
    "K = 3\n",
    "G = 2\n",
    "N = 4\n",
    "MU = 8"
   ]
  },
  {
   "cell_type": "code",
   "execution_count": 11,
   "metadata": {},
   "outputs": [
    {
     "name": "stdout",
     "output_type": "stream",
     "text": [
      "allCarriers:\n",
      " [0 1 2 3 4 5 6 7 8]\n",
      "pilotCarriers:\n",
      " [0 4 8]\n",
      "dataCarriers:\n",
      " [1 2 3 5 6 7]\n"
     ]
    }
   ],
   "source": [
    "P = 1\n",
    "pilotValue = 1\n",
    "allCarriers = np.arange(9)\n",
    "pilotCarriers = np.array([0,4,8])\n",
    "dataCarriers = np.delete(allCarriers, pilotCarriers)\n",
    "print (\"allCarriers:\\n\", allCarriers)\n",
    "print (\"pilotCarriers:\\n\", pilotCarriers)\n",
    "print (\"dataCarriers:\\n\", dataCarriers)"
   ]
  },
  {
   "cell_type": "code",
   "execution_count": 14,
   "metadata": {},
   "outputs": [
    {
     "name": "stdout",
     "output_type": "stream",
     "text": [
      "[0 0 1 0 1 1 1 1 0 1 0 0 1 0 0 1 1 0 0 0 1 1 0 1]\n",
      "24\n"
     ]
    }
   ],
   "source": [
    "bits = np.array([0,0,1,0,1,1,1,1,0,1,0,0,1,0,0,1,1,0,0,0,1,1,0,1])\n",
    "print(bits)\n",
    "print(bits.size)"
   ]
  },
  {
   "cell_type": "code",
   "execution_count": 22,
   "metadata": {},
   "outputs": [
    {
     "name": "stdout",
     "output_type": "stream",
     "text": [
      "[[0 0 1]\n",
      " [0 1 0]\n",
      " [1 0 0]\n",
      " [0 0 0]\n",
      " [1 1 1]\n",
      " [1 0 1]\n",
      " [1 0 0]\n",
      " [1 1 1]]\n"
     ]
    }
   ],
   "source": [
    "A = S2P(bits, 8, K)\n",
    "print(A)"
   ]
  },
  {
   "cell_type": "code",
   "execution_count": 6,
   "metadata": {},
   "outputs": [],
   "source": [
    "mapping_table = {\n",
    "    (0,0,0,0) : -3-3j,\n",
    "    (0,0,0,1) : -3-3j,\n",
    "    (0,0,1,0) : -3-3j,\n",
    "    (0,0,1,1) : -3-3j,\n",
    "    (0,1,0,0) : -3-3j,\n",
    "    (0,1,0,1) : -3-3j,\n",
    "    (0,1,1,0) : -3-3j,\n",
    "    (0,1,1,1) : -3-3j,\n",
    "    (1,0,0,0) : -3-3j,\n",
    "    (1,0,0,1) : -3-3j,\n",
    "    (1,0,1,0) : -3-3j,\n",
    "    (1,0,1,1) : -3-3j,\n",
    "    (1,1,0,0) : -3-3j,\n",
    "    (1,1,0,1) : -3-3j,\n",
    "    (1,1,1,0) : -3-3j,\n",
    "    (1,1,1,1) : -3-3j,\n",
    "}"
   ]
  },
  {
   "cell_type": "code",
   "execution_count": 7,
   "metadata": {},
   "outputs": [
    {
     "name": "stdout",
     "output_type": "stream",
     "text": [
      "[ 1.-1.j  1.+1.j  1.-1.j -1.-1.j]\n"
     ]
    }
   ],
   "source": [
    "B = Mapping(A, mapping_table)\n",
    "print(B)"
   ]
  },
  {
   "cell_type": "code",
   "execution_count": 8,
   "metadata": {},
   "outputs": [],
   "source": [
    "# B1 = OFDM_symbol(B, K, dataCarriers, pilotCarriers, pilotValue)"
   ]
  },
  {
   "cell_type": "code",
   "execution_count": 9,
   "metadata": {},
   "outputs": [
    {
     "name": "stdout",
     "output_type": "stream",
     "text": [
      "[ 0.+0.j  1.-1.j  1.+1.j  0.+0.j  0.+0.j  0.+0.j  1.-1.j -1.-1.j]\n"
     ]
    }
   ],
   "source": [
    "C = np.zeros(N, dtype=B.dtype)\n",
    "C[1] = B[0]\n",
    "C[2] = B[1]\n",
    "C[6] = B[2]\n",
    "C[7] = B[3]\n",
    "print(C)"
   ]
  },
  {
   "cell_type": "code",
   "execution_count": 10,
   "metadata": {},
   "outputs": [
    {
     "name": "stdout",
     "output_type": "stream",
     "text": [
      "[ 0.25-0.25j       -0.25+0.j         -0.25+0.25j        0.25+0.35355339j\n",
      "  0.25+0.25j       -0.25+0.j         -0.25-0.25j        0.25-0.35355339j]\n"
     ]
    }
   ],
   "source": [
    "D = IFFT(C, N)\n",
    "print(D)"
   ]
  },
  {
   "cell_type": "code",
   "execution_count": 11,
   "metadata": {},
   "outputs": [
    {
     "name": "stdout",
     "output_type": "stream",
     "text": [
      "[ 0.25+0.25j       -0.25+0.j         -0.25-0.25j        0.25-0.35355339j\n",
      "  0.25-0.25j       -0.25+0.j         -0.25+0.25j        0.25+0.35355339j\n",
      "  0.25+0.25j       -0.25+0.j         -0.25-0.25j        0.25-0.35355339j]\n"
     ]
    }
   ],
   "source": [
    "E = addCP(D, G)\n",
    "print(E)"
   ]
  },
  {
   "cell_type": "code",
   "execution_count": 13,
   "metadata": {},
   "outputs": [
    {
     "name": "stdout",
     "output_type": "stream",
     "text": [
      "[ 0.25+0.25j       -0.25+0.j         -0.25-0.25j        0.25-0.35355339j\n",
      "  0.25-0.25j       -0.25+0.j         -0.25+0.25j        0.25+0.35355339j\n",
      "  0.25+0.25j       -0.25+0.j         -0.25-0.25j        0.25-0.35355339j]\n"
     ]
    }
   ],
   "source": [
    "F = P2S(E)\n",
    "print(F)"
   ]
  },
  {
   "cell_type": "code",
   "execution_count": 15,
   "metadata": {},
   "outputs": [
    {
     "name": "stdout",
     "output_type": "stream",
     "text": [
      "[ 0.25 -0.25 -0.25  0.25  0.25 -0.25 -0.25  0.25  0.25 -0.25 -0.25  0.25]\n",
      "[ 0.25        0.         -0.25       -0.35355339 -0.25        0.\n",
      "  0.25        0.35355339  0.25        0.         -0.25       -0.35355339]\n"
     ]
    }
   ],
   "source": [
    "G1 = F.real\n",
    "G2 = F.imag\n",
    "print(G1)\n",
    "print(G2)"
   ]
  },
  {
   "cell_type": "code",
   "execution_count": 17,
   "metadata": {},
   "outputs": [
    {
     "data": {
      "text/plain": [
       "12"
      ]
     },
     "execution_count": 17,
     "metadata": {},
     "output_type": "execute_result"
    }
   ],
   "source": [
    "G1.size"
   ]
  },
  {
   "cell_type": "code",
   "execution_count": 21,
   "metadata": {},
   "outputs": [
    {
     "name": "stdout",
     "output_type": "stream",
     "text": [
      "[ 0  1  2  3  4  5  6  7  8  9 10 11]\n"
     ]
    }
   ],
   "source": [
    "x = t = np.arange(0, G1.size, 1)\n",
    "print(x)"
   ]
  },
  {
   "cell_type": "code",
   "execution_count": 31,
   "metadata": {},
   "outputs": [
    {
     "data": {
      "image/png": "[encoded data removed]",
      "text/plain": [
       "<Figure size 640x480 with 1 Axes>"
      ]
     },
     "metadata": {},
     "output_type": "display_data"
    }
   ],
   "source": [
    "plt.plot(x,G1, 'bo')\n",
    "plt.xticks(x)\n",
    "plt.grid(True)\n",
    "plt.show()"
   ]
  },
  {
   "cell_type": "code",
   "execution_count": 32,
   "metadata": {},
   "outputs": [
    {
     "data": {
      "image/png": "[encoded data removed]",
      "text/plain": [
       "<Figure size 640x480 with 1 Axes>"
      ]
     },
     "metadata": {},
     "output_type": "display_data"
    }
   ],
   "source": [
    "plt.plot(x,G2, 'ro')\n",
    "plt.xticks(x)\n",
    "plt.grid(True)\n",
    "plt.show()"
   ]
  }
 ],
 "metadata": {
  "kernelspec": {
   "display_name": ".venv",
   "language": "python",
   "name": "python3"
  },
  "language_info": {
   "codemirror_mode": {
    "name": "ipython",
    "version": 3
   },
   "file_extension": ".py",
   "mimetype": "text/x-python",
   "name": "python",
   "nbconvert_exporter": "python",
   "pygments_lexer": "ipython3",
   "version": "3.11.4"
  }
 },
 "nbformat": 4,
 "nbformat_minor": 2
}
