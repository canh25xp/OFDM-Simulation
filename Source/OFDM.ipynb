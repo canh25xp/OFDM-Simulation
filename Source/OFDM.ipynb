{
 "cells": [
  {
   "cell_type": "markdown",
   "metadata": {
    "slideshow": {
     "slide_type": "slide"
    }
   },
   "source": [
    "# OFDM simulation using 64 QAM modulation\n",
    "<!-- OFDM (Orthogonal frequency division multiplexing) is a multicarrier system that is applied in a wide range of wireless transmission systems, such as LTE, WiMAX and DVB-T and DAB. The fundamental concept of a multicarrier system is the division of a high-rate transmitted data stream into several low-rate narrow subcarriers. This way, several advantages are obtained:\n",
    "- Since the symbol duration is inverse proportional to the symbol rate, each subcarrier has relatively long symbols. Long symbols are robust against multipath fading, as it occurs in wireless systems.\n",
    "- When a carrier is in a deep fade due to frequency-selectivity of the channel (i.e. the received energy on this carrier is very low), only the data on this subcarrier is lost, instead of the whole stream.\n",
    "- Multicarrier systems allow easy multi-user resource sharing by allocating different subcarriers to different users. -->"
   ]
  },
  {
   "cell_type": "markdown",
   "metadata": {
    "id": "P_j2CYKm072f",
    "slideshow": {
     "slide_type": "slide"
    }
   },
   "source": [
    "## Import libraries"
   ]
  },
  {
   "cell_type": "code",
   "execution_count": null,
   "metadata": {
    "editable": true,
    "id": "qnZwavps04uy",
    "tags": []
   },
   "outputs": [],
   "source": [
    "from pathlib import Path\n",
    "import numpy as np\n",
    "import matplotlib.pyplot as plt\n",
    "from numpy import pi as PI \n",
    "from numpy import sin, arctan\n",
    "from scipy.ndimage import gaussian_filter1d\n",
    "from OFDM.channel import *\n",
    "from OFDM.helper import *\n",
    "from OFDM.crc import encode, decode, count_error"
   ]
  },
  {
   "cell_type": "code",
   "execution_count": null,
   "metadata": {
    "editable": true,
    "slideshow": {
     "slide_type": "skip"
    },
    "tags": [
     "parameters"
    ]
   },
   "outputs": [],
   "source": [
    "save_fig = True # To save plot during simulation\n",
    "save_folder = Path(\"results\") # Where to save the figures\n",
    "save_format = \"pdf\" # Save as what type\n",
    "def Save_fig(save_name : str):\n",
    "    plt.savefig(save_folder/(save_name+\".\"+save_format), bbox_inches='tight')"
   ]
  },
  {
   "cell_type": "markdown",
   "metadata": {
    "slideshow": {
     "slide_type": "subslide"
    }
   },
   "source": [
    "## Parameters setup"
   ]
  },
  {
   "cell_type": "markdown",
   "metadata": {},
   "source": [
    "First, let's define some parameters that will be using during the OFDM simulation:"
   ]
  },
  {
   "cell_type": "code",
   "execution_count": null,
   "metadata": {
    "editable": true,
    "tags": []
   },
   "outputs": [],
   "source": [
    "K = 128         # number of OFDM subcarriers\n",
    "CP = K // 4     # length of the cyclic prefix\n",
    "P = 8           # number of pilot carriers per OFDM block\n",
    "MU = 6          # bits per symbol\n",
    "SNRDB = 20      # signal to noise-ratio in dB at the receiver"
   ]
  },
  {
   "cell_type": "markdown",
   "metadata": {
    "slideshow": {
     "slide_type": "notes"
    }
   },
   "source": [
    "- `K` : The number of subcarriers, describes how many subcarriers are available in the OFDM system.\n",
    "- `CP` : The length of the cyclic prefix, denotes the number of samples that are copied from the end of the modulated block to the beginning, to yield a cyclic extension of the block, usually 25% of the block.\n",
    "- `P` : The number of pilots in the OFDM symbol, describes how many carriers are used to transmit known information (i.e. pilots).\n",
    "- `MU` : Since we simulating 64QAM transmission, we need to define $\\mu = \\log_{2} 64 = 6$ bits per symbol\n",
    "- `SNRDB` : Signal-to-Noise Ratio in dB, that should occur at the receiver."
   ]
  },
  {
   "cell_type": "markdown",
   "metadata": {
    "slideshow": {
     "slide_type": "subslide"
    }
   },
   "source": [
    "Further, we also define the value that each pilots transmits (which is known to the receiver). Pilots will be used at the receiver to estimate the wireless channel between transmitter and receiver."
   ]
  },
  {
   "cell_type": "code",
   "execution_count": null,
   "metadata": {
    "editable": true,
    "tags": []
   },
   "outputs": [],
   "source": [
    "pilotValue = 7+7j                       # the known value each pilot transmits\n",
    "allCarriers = np.arange(K)              # indices of all subcarriers ([0, 1, ... K-1])\n",
    "pilotCarriers = allCarriers[::K//P]     # pilots is every (K/P)th carrier.\n",
    "\n",
    "# For convenience of channel estimation, the last carrier is also be a pilot\n",
    "pilotCarriers = np.hstack([pilotCarriers, np.array([allCarriers[-1]])])\n",
    "P = P+1\n",
    "\n",
    "# data carriers are all remaining carriers\n",
    "dataCarriers = np.delete(allCarriers, pilotCarriers)\n",
    "\n",
    "print (\"allCarriers:\\n\", allCarriers)\n",
    "print (\"pilotCarriers:\\n\", pilotCarriers)\n",
    "print (\"dataCarriers:\\n\", dataCarriers)"
   ]
  },
  {
   "cell_type": "code",
   "execution_count": null,
   "metadata": {
    "editable": true,
    "slideshow": {
     "slide_type": "subslide"
    },
    "tags": []
   },
   "outputs": [],
   "source": [
    "plt.figure(figsize=(15,2))\n",
    "plt.xlim((-1, K))\n",
    "plt.ylim((-1, 1))\n",
    "plt.xlabel('Carrier index')\n",
    "plt.yticks([])\n",
    "plt.xticks(pilotCarriers)\n",
    "plt.grid(True)\n",
    "plt.plot(pilotCarriers, np.zeros_like(pilotCarriers), 'bo', label='pilot')\n",
    "plt.plot(dataCarriers, np.zeros_like(dataCarriers), 'ro', label='data')\n",
    "plt.legend(fontsize=10, ncol=2)\n",
    "if save_fig : Save_fig(\"carrier_index\")\n",
    "plt.show()"
   ]
  },
  {
   "cell_type": "markdown",
   "metadata": {
    "slideshow": {
     "slide_type": "subslide"
    }
   },
   "source": [
    "Now we define a `mapping_table` that map from groups of 6 bits to a 64QAM constellation symbol"
   ]
  },
  {
   "cell_type": "code",
   "execution_count": null,
   "metadata": {
    "editable": true,
    "tags": []
   },
   "outputs": [],
   "source": [
    "mapping_table = {\n",
    "    (0,0,0,0,0,0) : -7-7j,\n",
    "    (0,0,0,0,0,1) : -7-5j,\n",
    "    (0,0,0,0,1,1) : -7-3j,\n",
    "    (0,0,0,0,1,0) : -7-1j,\n",
    "    (0,0,0,1,1,0) : -7+1j,\n",
    "    (0,0,0,1,1,1) : -7+3j,\n",
    "    (0,0,0,1,0,1) : -7+5j,\n",
    "    (0,0,0,1,0,0) : -7+7j,\n",
    "    (0,0,1,1,0,0) : -5+7j,\n",
    "    (0,0,1,1,0,1) : -5+5j,\n",
    "    (0,0,1,1,1,1) : -5+3j,\n",
    "    (0,0,1,1,1,0) : -5+1j,\n",
    "    (0,0,1,0,1,0) : -5-1j,\n",
    "    (0,0,1,0,1,1) : -5-3j,\n",
    "    (0,0,1,0,0,1) : -5-5j,\n",
    "    (0,0,1,0,0,0) : -5-7j,\n",
    "    (0,1,1,0,0,0) : -3-7j,\n",
    "    (0,1,1,0,0,1) : -3-5j,\n",
    "    (0,1,1,0,1,1) : -3-3j,\n",
    "    (0,1,1,0,1,0) : -3-1j,\n",
    "    (0,1,1,1,1,0) : -3+1j,\n",
    "    (0,1,1,1,1,1) : -3+3j,\n",
    "    (0,1,1,1,0,1) : -3+5j,\n",
    "    (0,1,1,1,0,0) : -3+7j,\n",
    "    (0,1,0,1,0,0) : -1+7j,\n",
    "    (0,1,0,1,0,1) : -1+5j,\n",
    "    (0,1,0,1,1,1) : -1+3j,\n",
    "    (0,1,0,1,1,0) : -1+1j,\n",
    "    (0,1,0,0,1,0) : -1-1j,\n",
    "    (0,1,0,0,1,1) : -1-3j,\n",
    "    (0,1,0,0,0,1) : -1-5j,\n",
    "    (0,1,0,0,0,0) : -1-7j,\n",
    "    (1,1,0,0,0,0) :  1-7j,\n",
    "    (1,1,0,0,0,1) :  1-5j,\n",
    "    (1,1,0,0,1,1) :  1-3j,\n",
    "    (1,1,0,0,1,0) :  1-1j,\n",
    "    (1,1,0,1,1,0) :  1+1j,\n",
    "    (1,1,0,1,1,1) :  1+3j,\n",
    "    (1,1,0,1,0,1) :  1+5j,\n",
    "    (1,1,0,1,0,0) :  1+7j,\n",
    "    (1,1,1,1,0,0) :  3+7j,\n",
    "    (1,1,1,1,0,1) :  3+5j,\n",
    "    (1,1,1,1,1,1) :  3+3j,\n",
    "    (1,1,1,1,1,0) :  3+1j,\n",
    "    (1,1,1,0,1,0) :  3-1j,\n",
    "    (1,1,1,0,1,1) :  3-3j,\n",
    "    (1,1,1,0,0,1) :  3-5j,\n",
    "    (1,1,1,0,0,0) :  3-7j,\n",
    "    (1,0,1,0,0,0) :  5-7j,\n",
    "    (1,0,1,0,0,1) :  5-5j,\n",
    "    (1,0,1,0,1,1) :  5-3j,\n",
    "    (1,0,1,0,1,0) :  5-1j,\n",
    "    (1,0,1,1,1,0) :  5+1j,\n",
    "    (1,0,1,1,1,1) :  5+3j,\n",
    "    (1,0,1,1,0,1) :  5+5j,\n",
    "    (1,0,1,1,0,0) :  5+7j,\n",
    "    (1,0,0,1,0,0) :  7+7j,\n",
    "    (1,0,0,1,0,1) :  7+5j,\n",
    "    (1,0,0,1,1,1) :  7+3j,\n",
    "    (1,0,0,1,1,0) :  7+1j,\n",
    "    (1,0,0,0,1,0) :  7-1j,\n",
    "    (1,0,0,0,1,1) :  7-3j,\n",
    "    (1,0,0,0,0,1) :  7-5j,\n",
    "    (1,0,0,0,0,0) :  7-7j,\n",
    "}"
   ]
  },
  {
   "cell_type": "code",
   "execution_count": null,
   "metadata": {
    "editable": true,
    "slideshow": {
     "slide_type": "subslide"
    },
    "tags": []
   },
   "outputs": [],
   "source": [
    "for d5 in [0,1]:\n",
    "    for d4 in [0,1]:\n",
    "        for d3 in [0,1]:\n",
    "            for d2 in [0,1]:\n",
    "                for d1 in [0,1]:\n",
    "                    for d0 in [0,1]:\n",
    "                        D = (d5,d4,d3,d2,d1,d0)\n",
    "                        Q = mapping_table[D]\n",
    "                        plt.plot(Q.real,Q.imag, 'bo')\n",
    "                        plt.text(Q.real,Q.imag+0.5, \"\".join(str(x) for x in D), ha = 'center')\n",
    "                        \n",
    "plt.grid(True)\n",
    "plt.xticks(range(-7,8,2)); plt.yticks(range(-7,8,2))\n",
    "plt.xlim((-8,8)); plt.ylim((-8,8))\n",
    "plt.xlabel('Real part (I)'); plt.ylabel('Imaginary part (Q)')\n",
    "if save_fig : Save_fig(\"mapping\")\n",
    "plt.title(\"Mapping Table 6 symbol\")\n",
    "plt.show()"
   ]
  },
  {
   "cell_type": "markdown",
   "metadata": {},
   "source": [
    "Above, we have plotted the 64QAM constellation, along with the bit-labels. Note the Gray-mapping, i.e. two adjacent constellation symbols differ only by one bit and the other 3 bits remain the same. This technique helps to minimize bit-errors, in case a wrong constellation symbol is detected: Most probably, symbol errors are \"off-by-one\" errors, i.e. a symbol next to the correct symbol is detected. Then, only a single bit-error occurs."
   ]
  },
  {
   "cell_type": "markdown",
   "metadata": {},
   "source": [
    "The demapping table is simply the inverse mapping of the mapping table:"
   ]
  },
  {
   "cell_type": "code",
   "execution_count": null,
   "metadata": {
    "editable": true,
    "tags": []
   },
   "outputs": [],
   "source": [
    "demapping_table = {v : k for k, v in mapping_table.items()}"
   ]
  },
  {
   "cell_type": "markdown",
   "metadata": {
    "slideshow": {
     "slide_type": "subslide"
    }
   },
   "source": [
    "Let us now define the wireless channel between transmitter and receiver. Here, we use a simple two-tap multipath channel with given impulse response `channelResponse`. Also, we plot the corresponding frequency response. As we see, the channel is frequency-selective."
   ]
  },
  {
   "cell_type": "code",
   "execution_count": null,
   "metadata": {
    "editable": true,
    "tags": []
   },
   "outputs": [],
   "source": [
    "channelResponse = np.array([1+0j, 0+0j, 0.1+0.1j])\n",
    "H_exact = FFT(channelResponse, K)\n",
    "plt.plot(allCarriers, abs(H_exact))\n",
    "plt.xlabel('Subcarrier index')\n",
    "plt.ylabel('$|H(f)|$')\n",
    "plt.xlim(0, K-1)\n",
    "plt.grid(True)\n",
    "if save_fig : Save_fig(\"channel\")\n",
    "plt.title(\"The impulse response of the wireless channel\")\n",
    "plt.show()"
   ]
  },
  {
   "cell_type": "markdown",
   "metadata": {
    "id": "IB3jO8oq3Olx",
    "slideshow": {
     "slide_type": "slide"
    }
   },
   "source": [
    "## Transmitter Part\n",
    "Now, that we have defined the necessary parameters for the OFDM system, we need some data for testing. Here we using a 3 channel image that can either load from a file or from an url"
   ]
  },
  {
   "cell_type": "code",
   "execution_count": null,
   "metadata": {
    "editable": true,
    "slideshow": {
     "slide_type": "subslide"
    },
    "tags": []
   },
   "outputs": [],
   "source": [
    "img = plt.imread(\"images/test.bmp\") # Read from file\n",
    "# img = url2img(\"https://sc04.alicdn.com/kf/Uc21f8e3d737e4cad81d95974852e0959I.jpg\", RGB=True) # Read from URL\n",
    "img = resize_image(img, 256) # Resize to reduce compute time\n",
    "print(\"width, height, channel = \", img.shape)\n",
    "plt.imshow(img)\n",
    "if save_fig : Save_fig(\"input\")\n",
    "plt.title(\"Input Source\")\n",
    "plt.show()"
   ]
  },
  {
   "cell_type": "markdown",
   "metadata": {},
   "source": [
    "After that, we get all the pixels value (from 3 channels) of the image and lay them in a 1D array. This array is gonna have a size of `width x height x channel`"
   ]
  },
  {
   "cell_type": "code",
   "execution_count": null,
   "metadata": {
    "editable": true,
    "tags": []
   },
   "outputs": [],
   "source": [
    "pixels = img.reshape(img.shape[0]*img.shape[1]*img.shape[2])\n",
    "print(pixels.size)"
   ]
  },
  {
   "cell_type": "markdown",
   "metadata": {},
   "source": [
    "The pixels value is in decimal, we need to convert it into binary"
   ]
  },
  {
   "cell_type": "code",
   "execution_count": null,
   "metadata": {
    "editable": true,
    "id": "QTJDZ6D31wDx",
    "tags": []
   },
   "outputs": [],
   "source": [
    "img_bytes = [format(pixel, \"08b\") for pixel in pixels]"
   ]
  },
  {
   "cell_type": "markdown",
   "metadata": {
    "slideshow": {
     "slide_type": "subslide"
    }
   },
   "source": [
    "Subsequently, we add the CRC (Cyclic redundancy check) to the end of each byte.\n",
    "Basically, the CRC generator at the transmitter consists of 4 steps:\n",
    "1. Find the length of the devisor `L`\n",
    "2. Append `L-1` bits to the original byte\n",
    "3. Perform binary division operation to get `quotient` and `remainder`\n",
    "4. Remainder of the division = `CRC`\n",
    "\n",
    "<!-- | A | B | A XOR B|\n",
    "|-|-|-|\n",
    "|0|0|0|\n",
    "|0|1|1|\n",
    "|1|0|1|\n",
    "|1|1|0| -->\n",
    "\n",
    "Here we choose the `key` value of `\"1101\"`"
   ]
  },
  {
   "cell_type": "code",
   "execution_count": null,
   "metadata": {},
   "outputs": [],
   "source": [
    "key = \"1101\"\n",
    "img_en = [encode(i, key) for i in img_bytes]\n",
    "print(img_bytes[1])\n",
    "print(img_en[1])"
   ]
  },
  {
   "cell_type": "code",
   "execution_count": null,
   "metadata": {
    "slideshow": {
     "slide_type": "subslide"
    }
   },
   "outputs": [],
   "source": [
    "img_bits = [split(i) for i in np.array(img_en)]\n",
    "img_bits = np.vstack(img_bits)\n",
    "# img_ready_for_trans\n",
    "img_bits_tx = np.array([int(i[j]) for i in img_bits for j in range(11)])"
   ]
  },
  {
   "cell_type": "markdown",
   "metadata": {},
   "source": [
    "We group the bits into a group of `payloadBits_per_OFDM`, which in this case, equals 714"
   ]
  },
  {
   "cell_type": "code",
   "execution_count": null,
   "metadata": {
    "colab": {
     "base_uri": "https://localhost:8080/",
     "height": 282
    },
    "id": "62gaOYQg3cDC",
    "outputId": "18d3d19f-20ad-4c2a-b02e-895be155cc90"
   },
   "outputs": [],
   "source": [
    "payloadBits_per_OFDM = len(dataCarriers)*MU # number of payload bits per OFDM symbol\n",
    "bits_groups = group_bits_zero_pad(img_bits_tx, payloadBits_per_OFDM)"
   ]
  },
  {
   "cell_type": "markdown",
   "metadata": {
    "slideshow": {
     "slide_type": "subslide"
    }
   },
   "source": [
    "For demonstration, in this part we sent only one frame, specifically, the first frame."
   ]
  },
  {
   "cell_type": "code",
   "execution_count": null,
   "metadata": {},
   "outputs": [],
   "source": [
    "bits = np.array(bits_groups[0]) # we select first frame to send"
   ]
  },
  {
   "cell_type": "markdown",
   "metadata": {},
   "source": [
    "The `bits` are now sent to a serial-to-parallel converter, which groups the bits for the OFDM frame into a groups of $\\mu$ bits (i.e. one group for each subcarrier):"
   ]
  },
  {
   "cell_type": "code",
   "execution_count": null,
   "metadata": {
    "colab": {
     "base_uri": "https://localhost:8080/"
    },
    "id": "COfNbRFb6KLv",
    "outputId": "a81cc911-c6b8-41ea-d4a7-564e070d2683"
   },
   "outputs": [],
   "source": [
    "bits_parallel = S2P(bits, len(dataCarriers), MU) # Serial to Parallel\n",
    "print (\"First 5 bit groups:\")\n",
    "print (bits_parallel[:5,:])"
   ]
  },
  {
   "cell_type": "markdown",
   "metadata": {
    "slideshow": {
     "slide_type": "subslide"
    }
   },
   "source": [
    "Now, the `bits_parallel` are sent to the mapper. The mapper converts the groups into complex-valued constellation symbols according to the `mapping_table`."
   ]
  },
  {
   "cell_type": "code",
   "execution_count": null,
   "metadata": {
    "colab": {
     "base_uri": "https://localhost:8080/"
    },
    "id": "kj19rK1B6OWl",
    "outputId": "2b3739c2-34af-4a6d-c13f-9dcc411b7cd6"
   },
   "outputs": [],
   "source": [
    "QAM = Mapping(bits_parallel, mapping_table)\n",
    "print (\"First 5 QAM symbols:\")\n",
    "print (QAM[:5])"
   ]
  },
  {
   "cell_type": "markdown",
   "metadata": {
    "slideshow": {
     "slide_type": "subslide"
    }
   },
   "source": [
    "The next step is the allocation of different subcarriers with data and pilots. For each subcarrier we have defined wether it carries data or a pilot by the arrays `dataCarriers` and `pilotCarriers`. Now, to create the overall OFDM data, we need to put the data and pilots into the OFDM carriers.\n",
    "\n",
    "Next, the OFDM carriers contained in `OFDM_data` can be transformed to the time-domain by means of the `IFFT` operation. "
   ]
  },
  {
   "cell_type": "code",
   "execution_count": null,
   "metadata": {
    "colab": {
     "base_uri": "https://localhost:8080/"
    },
    "id": "8nboFmvz6QLt",
    "outputId": "fbeaa4f2-b1d4-47be-97fe-43c7d713b444"
   },
   "outputs": [],
   "source": [
    "OFDM_data = OFDM_symbol(QAM, K, dataCarriers, pilotCarriers, pilotValue)\n",
    "OFDM_time = IFFT(OFDM_data)"
   ]
  },
  {
   "cell_type": "code",
   "execution_count": null,
   "metadata": {
    "slideshow": {
     "slide_type": "subslide"
    }
   },
   "outputs": [],
   "source": [
    "N = 400 # Number of sample points\n",
    "T = 1 / 0.32e12 # sample spacing\n",
    "t = np.linspace(0.0, N*T, N)\n",
    "fd = 0\n",
    "fc = 24e9\n",
    "\n",
    "sin_time = []\n",
    "for i in OFDM_time:\n",
    "    sin_time.append(abs(i)*sin(((2*PI)*(fc+fd)*t) + arctan(i.imag/i.real)))\n",
    "    fd += 1e9\n",
    "    \n",
    "s = np.zeros(len(t), dtype = float)\n",
    "for j in range(len(t)):\n",
    "    for i in sin_time:\n",
    "        s[j] += i[j]\n",
    "        \n",
    "# Time-domain\n",
    "plt.plot(t,s)\n",
    "plt.grid(True)\n",
    "plt.xlabel(\"Time(s)\")\n",
    "plt.ylabel(\"Amplitude(V)\")\n",
    "if save_fig: Save_fig(\"time_domain_1\")\n",
    "plt.title(\"OFDM in time-domain\")\n",
    "plt.show()"
   ]
  },
  {
   "cell_type": "code",
   "execution_count": null,
   "metadata": {
    "slideshow": {
     "slide_type": "subslide"
    }
   },
   "outputs": [],
   "source": [
    "# Frequency-domain\n",
    "for i in range(len(sin_time)):\n",
    "    yf = FFT(sin_time[i])\n",
    "    xf = np.linspace(0.0, 1.0/(2.0*T), int(N/2))\n",
    "    plt.plot(xf, 2.0/N * np.abs(yf[:N//2]))\n",
    "plt.grid(True)\n",
    "plt.ylabel(\"|H(f)|\")\n",
    "plt.xlabel(\"Frequency(Hz)\")\n",
    "if save_fig: Save_fig(\"freq_domain_1\")\n",
    "plt.title(\"OFDM in frequency-domain\")\n",
    "plt.show()"
   ]
  },
  {
   "cell_type": "code",
   "execution_count": null,
   "metadata": {
    "slideshow": {
     "slide_type": "skip"
    }
   },
   "outputs": [],
   "source": [
    "for i in range(1,3):\n",
    "    plt.plot(t, sin_time[i])\n",
    "    plt.grid(True)\n",
    "plt.show()"
   ]
  },
  {
   "cell_type": "code",
   "execution_count": null,
   "metadata": {
    "slideshow": {
     "slide_type": "skip"
    }
   },
   "outputs": [],
   "source": [
    "# Look closely in 2 frequncies spiked\n",
    "# Number of sample points\n",
    "sin_time_x = []\n",
    "G = 75 #N\n",
    "# sample spacing\n",
    "M = 1 / 0.0580e12 #T\n",
    "O = np.linspace(0.0, G*M, G) #t\n",
    "fd = 0\n",
    "fc = 24e9\n",
    "s = np.zeros(len(O), dtype = float)\n",
    "for i in OFDM_time:\n",
    "    sin_time_x.append(abs(i)*sin(((2*PI)*(fc+fd)*O) + arctan(i.imag/i.real)))\n",
    "    fd += 1e9\n",
    "for i in range(len(sin_time[0:2])):\n",
    "    yf = FFT(sin_time[i])\n",
    "    xf = np.linspace(0.0, 1.0/(2.0*M), int(G/2))\n",
    "    plt.plot(xf, 2.0/G * np.abs(yf[:G//2]))\n",
    "plt.grid(True)\n",
    "plt.title(\"OFDM in frequency-domain\")\n",
    "plt.ylabel(\"|H(f)|\")\n",
    "plt.xlabel(\"Frequency(Hz)\")\n",
    "plt.show()"
   ]
  },
  {
   "cell_type": "markdown",
   "metadata": {
    "slideshow": {
     "slide_type": "subslide"
    }
   },
   "source": [
    "Subsequently, we add a cyclic prefix to the symbol. This operation concatenates a copy of the last `CP` samples of the OFDM time domain signal to the beginning. This way, a cyclic extension is achieved. The CP fulfills two tasks:\n",
    "\n",
    "1. It isolates different OFDM blocks from each other when the wireless channel contains multiple paths, i.e. is frequency-selective.\n",
    "2. It turns the linear convolution with the channel into a circular one. Only with a circular convolution, we can use the single-tap equalization OFDM is so famous for."
   ]
  },
  {
   "cell_type": "code",
   "execution_count": null,
   "metadata": {},
   "outputs": [],
   "source": [
    "OFDM_TX = addCP(OFDM_time, CP)\n",
    "\n",
    "print(\"Number of OFDM carriers in frequency domain:     \", len(OFDM_data))\n",
    "print(\"Number of OFDM samples in time-domain before CP: \", len(OFDM_time))\n",
    "print(\"Number of OFDM samples in time domain with CP:   \", len(OFDM_TX))"
   ]
  },
  {
   "cell_type": "markdown",
   "metadata": {
    "slideshow": {
     "slide_type": "subslide"
    }
   },
   "source": [
    "Now, the signal is sent to the antenna and sent over the air to the receiver. In between both antennas, there is the wireless channel. We model this channel as a static multipath channel with impulse response `channelResponse`. Hence, the signal at the receive antenna is the convolution of the transmit signal with the channel response. Additionally, we add some noise to the signal according to the value of `SNRBD`"
   ]
  },
  {
   "cell_type": "code",
   "execution_count": null,
   "metadata": {
    "colab": {
     "base_uri": "https://localhost:8080/",
     "height": 189
    },
    "id": "6Ohly8kx6UX6",
    "outputId": "b6ba87ef-7f9d-4ba1-b694-4e5a6664489e"
   },
   "outputs": [],
   "source": [
    "OFDM_RX = channel(OFDM_TX, channelResponse, SNRDB)\n",
    "\n",
    "plt.figure(figsize=(10,2))\n",
    "plt.plot(abs(OFDM_TX), label='TX signal')\n",
    "plt.plot(abs(OFDM_RX), label='RX signal')\n",
    "plt.legend(fontsize=10)\n",
    "plt.xlabel(\"Time\") \n",
    "plt.ylabel(\"|x(t)|\")\n",
    "plt.grid(True)\n",
    "if save_fig : Save_fig(\"tx_rx\")\n",
    "plt.show()"
   ]
  },
  {
   "cell_type": "markdown",
   "metadata": {
    "slideshow": {
     "slide_type": "slide"
    }
   },
   "source": [
    "## Receiver Part\n",
    "At receiver part, the `CP` is removed from the signal and a window of `K` samples is extracted from the received signal.\n",
    "\n",
    "Afterwards, the signal is transformed back to the frequency domain, in order to have the received value on each subcarrier available.\n",
    "\n",
    "As the next step, the wireless channel needs to be estimated. For illustration purposes, we resort to a simple zero-forcing channel estimation followed by a simple interpolation. The principle of channel estimation is as follows:\n",
    "\n",
    "The transmit signal contains pilot values at certain pilot carriers. These pilot values and their position in the frequency domain (i.e. the pilot carrier index) are known to the receiver. From the received information at the pilot subcarriers, the receiver can estimate the effect of the wireless channel onto this subcarrier (because it knows what was transmitted and what was received). Hence, the receiver gains information about the wireless channel at the pilot carriers. However, it wants to know what happened at the data carriers. To achieve this, it interpolates the channel values between the pilot carriers to get an estimate of the channel in the data carriers."
   ]
  },
  {
   "cell_type": "code",
   "execution_count": null,
   "metadata": {},
   "outputs": [],
   "source": [
    "OFDM_RX_noCP = removeCP(OFDM_RX, CP, K)\n",
    "OFDM_demod = FFT(OFDM_RX_noCP)\n",
    "Hest, Hest_at_pilots = channelEstimate(OFDM_demod, allCarriers, pilotCarriers, pilotValue)"
   ]
  },
  {
   "cell_type": "code",
   "execution_count": null,
   "metadata": {
    "colab": {
     "base_uri": "https://localhost:8080/",
     "height": 354
    },
    "id": "Iht2XxHG6dJK",
    "outputId": "5994f78e-74dd-4d75-a4e1-4389b247b0cb",
    "slideshow": {
     "slide_type": "subslide"
    }
   },
   "outputs": [],
   "source": [
    "plt.plot(allCarriers, abs(H_exact), label='Correct Channel')\n",
    "plt.stem(pilotCarriers, abs(Hest_at_pilots), label='Pilot estimates')\n",
    "plt.plot(allCarriers, abs(Hest), label='Estimated channel via interpolation')\n",
    "plt.grid(True)\n",
    "plt.xlabel('Carrier index')\n",
    "plt.ylabel('$|H(f)|$')\n",
    "plt.legend(fontsize=10)\n",
    "plt.ylim(0,2)\n",
    "if save_fig : Save_fig(\"channel_estimation\")\n",
    "plt.show()"
   ]
  },
  {
   "cell_type": "markdown",
   "metadata": {
    "slideshow": {
     "slide_type": "subslide"
    }
   },
   "source": [
    "Now that the channel is estimated at all carriers, we can use this information in the channel equalizer step. Here, for each subcarrier, the influence of the channel is removed such that we get the clear (only noisy) constellation symbols back."
   ]
  },
  {
   "cell_type": "markdown",
   "metadata": {
    "slideshow": {
     "slide_type": "subslide"
    }
   },
   "source": [
    "The next step (not shown in the diagram) is to extract the data carriers from the equalized symbol. Here, we throw away the pilot carriers, as they do not provide any information, but were used for the channel estimation process."
   ]
  },
  {
   "cell_type": "code",
   "execution_count": null,
   "metadata": {},
   "outputs": [],
   "source": [
    "equalized_Hest = equalize(OFDM_demod, Hest)\n",
    "QAM_est = get_payload(equalized_Hest, dataCarriers)\n",
    "plt.plot(QAM_est.real, QAM_est.imag, 'bo', scalex = True, scaley = True)\n",
    "plt.grid(True)\n",
    "plt.xlabel('Real part')\n",
    "plt.ylabel('Imaginary Part')\n",
    "if save_fig : Save_fig(\"data_carriers\")\n",
    "plt.title(\"Received constellation\")\n",
    "plt.show()"
   ]
  },
  {
   "cell_type": "markdown",
   "metadata": {
    "slideshow": {
     "slide_type": "subslide"
    }
   },
   "source": [
    "Now, that the constellation is obtained back, we need to send the complex values to the demapper, to transform the constellation points to the bit groups. In order to do this, we compare each received constellation point against each possible constellation point and choose the constellation point which is closest to the received point. Then, we return the bit-group that belongs to this point."
   ]
  },
  {
   "cell_type": "code",
   "execution_count": null,
   "metadata": {
    "colab": {
     "base_uri": "https://localhost:8080/",
     "height": 265
    },
    "id": "sPtaOJEx6zNa",
    "outputId": "57373d07-3339-4e7e-ce9b-c9cabc824d9a"
   },
   "outputs": [],
   "source": [
    "PS_est, hardDecision = Demapping(QAM_est, demapping_table)\n",
    "for qam, hard in zip(QAM_est, hardDecision):\n",
    "    plt.plot([qam.real, hard.real], [qam.imag, hard.imag], 'b-o')\n",
    "    plt.plot(hardDecision.real, hardDecision.imag, 'ro')\n",
    "plt.grid(True)\n",
    "plt.xlabel('Real part')\n",
    "plt.ylabel('Imaginary part')\n",
    "if save_fig : Save_fig(\"demapping\")\n",
    "plt.title('Hard Decision demapping')\n",
    "plt.show()"
   ]
  },
  {
   "cell_type": "markdown",
   "metadata": {},
   "source": [
    "In the diagram above, the blue points are the received QAM points, where as the the red points connected to them are the closest possible constellation points, and the bit groups corresponding to these red points are returned. \n",
    "\n",
    "Then, the bit groups need to be converted to a serial stream of bits, by means of parallel to serial conversion."
   ]
  },
  {
   "cell_type": "markdown",
   "metadata": {
    "slideshow": {
     "slide_type": "subslide"
    }
   },
   "source": [
    "Finally, we can calculate the bit error rate"
   ]
  },
  {
   "cell_type": "code",
   "execution_count": null,
   "metadata": {
    "colab": {
     "base_uri": "https://localhost:8080/"
    },
    "id": "Nied-co063Se",
    "outputId": "67f0ff03-262f-4917-b0ea-0a403a521d36"
   },
   "outputs": [],
   "source": [
    "bits_est = P2S(PS_est)\n",
    "ber = np.sum(abs(bits-bits_est))/len(bits)\n",
    "print (\"Obtained Bit error rate: \", ber)"
   ]
  },
  {
   "cell_type": "markdown",
   "metadata": {
    "slideshow": {
     "slide_type": "subslide"
    }
   },
   "source": [
    "Now let send all the `bits` in `bits_groups` at once"
   ]
  },
  {
   "cell_type": "code",
   "execution_count": null,
   "metadata": {
    "colab": {
     "base_uri": "https://localhost:8080/"
    },
    "id": "jEvrMSTy7dH_",
    "outputId": "4f2cf04f-7ba9-4984-c2b9-7fb5ae1d286d"
   },
   "outputs": [],
   "source": [
    "total_ber = 0\n",
    "bit_rx = []\n",
    "for bits in bits_groups:\n",
    "    bits_parallel = S2P(bits, len(dataCarriers), MU)\n",
    "    QAM = Mapping(bits_parallel, mapping_table)\n",
    "    OFDM_data = OFDM_symbol(QAM, K, dataCarriers, pilotCarriers, pilotValue)\n",
    "    OFDM_time = IFFT(OFDM_data)\n",
    "    OFDM_TX = addCP(OFDM_time, CP)\n",
    "    OFDM_RX = channel(OFDM_TX, channelResponse, SNRDB)\n",
    "    OFDM_RX_noCP = removeCP(OFDM_RX, CP, K)\n",
    "    OFDM_demod = FFT(OFDM_RX_noCP)\n",
    "    Hest, Hest_at_pilots = channelEstimate(OFDM_demod, allCarriers, pilotCarriers, pilotValue)\n",
    "    equalized_Hest = equalize(OFDM_demod, Hest)\n",
    "    QAM_est = get_payload(equalized_Hest, dataCarriers)\n",
    "    PS_est, hardDecision = Demapping(QAM_est, demapping_table)\n",
    "    bits_est = P2S(PS_est)\n",
    "    ber = np.sum(abs(bits-bits_est))/len(bits)\n",
    "    total_ber += ber\n",
    "    bit_rx.append(bits_est)\n",
    "    \n",
    "print(\"Total BER is :\" + str(ber / ((len(img_bits_tx)//payloadBits_per_OFDM)+1)))\n",
    "print(\"All frames are sent\")"
   ]
  },
  {
   "cell_type": "code",
   "execution_count": null,
   "metadata": {},
   "outputs": [],
   "source": [
    "img_fr = [split(i) for i in np.array(bit_rx)]\n",
    "img_fr = np.vstack(img_fr)\n",
    "\n",
    "img_rfr = np.array([int(i[j]) for i in img_fr for j in range(payloadBits_per_OFDM)])\n",
    "\n",
    "img_rfr1 = np.array([img_rfr[i] for i in range(len(img_bits_tx))])\n",
    "\n",
    "img_rea = [img_rfr1[i:i+11] for i in range(0, len(img_rfr1), 11)]\n",
    "    \n",
    "img_done = [[str(j) for j in i] for i in img_rea]\n",
    "\n",
    "img_fin = [\"\".join(i) for i in img_done]"
   ]
  },
  {
   "cell_type": "markdown",
   "metadata": {
    "slideshow": {
     "slide_type": "subslide"
    }
   },
   "source": [
    "Next we remove the redundant bits (CRC) to get the image data and calculate the error bits.\n",
    "To check if the received byte is correct, we just need to perform division of the byte and the key, and the compare the remainder with zero. If the remainder is zero, the received byte is not contain error."
   ]
  },
  {
   "cell_type": "code",
   "execution_count": null,
   "metadata": {
    "colab": {
     "base_uri": "https://localhost:8080/"
    },
    "id": "bSYZ9dsy7mU5",
    "outputId": "353f6820-b2e7-46ee-d468-a11016997f8e"
   },
   "outputs": [],
   "source": [
    "img_crc = [decode(i, key) for i in img_fin]\n",
    "\n",
    "print(\"Amount of total bits:    \", len(img_bits_tx))\n",
    "print(\"Amount of error bit(s):  \", count_error(img_crc))"
   ]
  },
  {
   "cell_type": "code",
   "execution_count": null,
   "metadata": {
    "colab": {
     "base_uri": "https://localhost:8080/",
     "height": 517
    },
    "id": "0DDIJrvW78oo",
    "outputId": "9e12af04-130f-47ed-c513-25ceccbc2e80",
    "slideshow": {
     "slide_type": "subslide"
    }
   },
   "outputs": [],
   "source": [
    "img_dec = np.array([i[0:8] for i in img_fin])\n",
    "img_back = np.array([int(img_dec[i],2) for i in range(len(img_bytes))])\n",
    "img_back = img_back.reshape(img.shape[0], img.shape[1], img.shape[2])\n",
    "plt.imshow(img_back)\n",
    "if save_fig: Save_fig(\"output_\"+str(SNRDB)+\"db\")\n",
    "plt.show()"
   ]
  },
  {
   "cell_type": "markdown",
   "metadata": {
    "slideshow": {
     "slide_type": "slide"
    }
   },
   "source": [
    "## Analyzing the value of BER with SER varying from 0 to 40 db"
   ]
  },
  {
   "cell_type": "code",
   "execution_count": null,
   "metadata": {},
   "outputs": [],
   "source": [
    "SNR_Array = np.arange(0, 40, 0.05)\n",
    "bits = bits_groups[10]\n",
    "BER_Array = []\n",
    "for i in SNR_Array:\n",
    "    bits_parallel = S2P(bits, len(dataCarriers), MU)\n",
    "    QAM = Mapping(bits_parallel, mapping_table)\n",
    "    OFDM_data = OFDM_symbol(QAM, K, dataCarriers, pilotCarriers, pilotValue)\n",
    "    OFDM_time = IFFT(OFDM_data)\n",
    "    OFDM_TX = addCP(OFDM_time, CP)\n",
    "    OFDM_RX = channel(OFDM_TX, channelResponse, i)\n",
    "    OFDM_RX_noCP = removeCP(OFDM_RX, CP, K)\n",
    "    OFDM_demod = FFT(OFDM_RX_noCP)\n",
    "    Hest, Hest_at_pilots = channelEstimate(OFDM_demod, allCarriers, pilotCarriers, pilotValue)\n",
    "    equalized_Hest = equalize(OFDM_demod, Hest)\n",
    "    QAM_est = get_payload(equalized_Hest, dataCarriers)\n",
    "    PS_est, hardDecision = Demapping(QAM_est, demapping_table)\n",
    "    bits_est = P2S(PS_est)\n",
    "    ber = np.sum(abs(bits-bits_est))/len(bits)\n",
    "    BER_Array.append(ber)\n",
    "\n",
    "plt.plot(SNR_Array, BER_Array)\n",
    "plt.xlabel(\"SNR(E0/N0)\")\n",
    "plt.ylabel(\"BER(%)\")\n",
    "plt.grid(True)\n",
    "if save_fig : Save_fig(\"ber\")\n",
    "plt.show()"
   ]
  },
  {
   "cell_type": "markdown",
   "metadata": {
    "slideshow": {
     "slide_type": "subslide"
    }
   },
   "source": [
    "Here we use `gaussian_filter1d` to smooth out the ber line"
   ]
  },
  {
   "cell_type": "code",
   "execution_count": null,
   "metadata": {},
   "outputs": [],
   "source": [
    "ysmoothed = gaussian_filter1d(BER_Array, sigma=15)\n",
    "plt.plot(SNR_Array, ysmoothed, 'c')\n",
    "plt.xlabel(\"SNR(E0/N0)\")\n",
    "plt.ylabel(\"Bit error rate(%)\")\n",
    "plt.grid(True)\n",
    "if save_fig: Save_fig(\"ber_smoothed\")\n",
    "plt.show()"
   ]
  }
 ],
 "metadata": {
  "colab": {
   "collapsed_sections": [],
   "name": "64_QAM_OFDM",
   "provenance": []
  },
  "kernelspec": {
   "display_name": "Python 3 (ipykernel)",
   "language": "python",
   "name": "python3"
  },
  "language_info": {
   "codemirror_mode": {
    "name": "ipython",
    "version": 3
   },
   "file_extension": ".py",
   "mimetype": "text/x-python",
   "name": "python",
   "nbconvert_exporter": "python",
   "pygments_lexer": "ipython3",
   "version": "3.11.4"
  }
 },
 "nbformat": 4,
 "nbformat_minor": 4
}
