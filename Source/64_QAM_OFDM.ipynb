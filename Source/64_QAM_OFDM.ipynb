{
  "cells": [
    {
      "cell_type": "markdown",
      "metadata": {},
      "source": [
        "# OFDM simulation using 64 QAM modulation\n",
        "OFDM (Orthogonal frequency division multiplexing) is a multicarrier system that is applied in a wide range of wireless transmission systems, such as LTE, WiMAX and DVB-T and DAB. The fundamental concept of a multicarrier system is the division of a high-rate transmitted data stream into several low-rate narrow subcarriers. This way, several advantages are obtained:\n",
        "- Since the symbol duration is inverse proportional to the symbol rate, each subcarrier has relatively long symbols. Long symbols are robust against multipath fading, as it occurs in wireless systems.\n",
        "- When a carrier is in a deep fade due to frequency-selectivity of the channel (i.e. the received energy on this carrier is very low), only the data on this subcarrier is lost, instead of the whole stream.\n",
        "- Multicarrier systems allow easy multi-user resource sharing by allocating different subcarriers to different users."
      ]
    },
    {
      "cell_type": "markdown",
      "metadata": {
        "id": "P_j2CYKm072f"
      },
      "source": [
        "## Import libraries"
      ]
    },
    {
      "cell_type": "code",
      "execution_count": 1,
      "metadata": {
        "id": "qnZwavps04uy"
      },
      "outputs": [],
      "source": [
        "import cv2 as cv\n",
        "import numpy as np\n",
        "import matplotlib.pyplot as plt\n",
        "import math as math\n",
        "import requests\n",
        "import scipy\n",
        "from scipy.ndimage import gaussian_filter1d\n",
        "import scipy.fftpack"
      ]
    },
    {
      "cell_type": "markdown",
      "metadata": {},
      "source": [
        "## Define Functions"
      ]
    },
    {
      "cell_type": "markdown",
      "metadata": {},
      "source": [
        "### Helper functions"
      ]
    },
    {
      "cell_type": "code",
      "execution_count": 2,
      "metadata": {},
      "outputs": [],
      "source": [
        "def xor(a, b):\n",
        "    # initialize result\n",
        "    result = []\n",
        "    # same, then XOR is 0, else 1\n",
        "    for i in range(1, len(b)):\n",
        "        if a[i] == b[i]:\n",
        "            result.append('0')\n",
        "        else:\n",
        "            result.append('1')\n",
        "    return ''.join(result)\n",
        "\n",
        "def covturl(urls):\n",
        "    resp = requests.get(urls, stream=True).raw\n",
        "    imgg = np.asarray(bytearray(resp.read()), dtype=\"uint8\")\n",
        "    return imgg\n",
        "\n",
        "def mod2div(divident, divisor):\n",
        "    # Number of bits to be XORed at a time.\n",
        "    pick = len(divisor)\n",
        "    # Slicing the divident to appropriate\n",
        "    # length for particular step\n",
        "    tmp = divident[0 : pick]\n",
        "    while pick < len(divident):\n",
        "        if tmp[0] == '1':\n",
        "            # replace the divident by the result\n",
        "            # of XOR and pull 1 bit down\n",
        "            tmp = xor(divisor, tmp) + divident[pick]\n",
        "        else:\n",
        "            # If the leftmost bit of the dividend (or the\n",
        "            # part used in each step) is 0, the step cannot\n",
        "            # use the regular divisor; we need to use an\n",
        "            # all-0s divisor.\n",
        "            tmp = xor('0'*pick, tmp) + divident[pick]\n",
        "\n",
        "        # increment pick to move further\n",
        "        pick += 1\n",
        "\n",
        "    # For the last n bits, we have to carry it out\n",
        "    # normally as increased value of pick will cause\n",
        "    # Index Out of Bounds.\n",
        "    if tmp[0] == '1':\n",
        "        tmp = xor(divisor, tmp)\n",
        "    else:\n",
        "        tmp = xor('0'*pick, tmp)\n",
        "\n",
        "    checkword = tmp\n",
        "    return checkword\n",
        "\n",
        "def encodeData(data, key):\n",
        "    l_key = len(key)\n",
        "    # Appends n-1 zeroes at end of data\n",
        "    appended_data = data + '0'*(l_key-1)\n",
        "    remainder = mod2div(appended_data, key)\n",
        "    # Append remainder in the original data\n",
        "    codeword = data + remainder\n",
        "    return codeword\n",
        "\n",
        "def decodeData(data, key):\n",
        "    l_key = len(key)\n",
        "    # Appends n-1 zeroes at end of data\n",
        "    appended_data = data + '0'*(l_key-1)\n",
        "    remainder = mod2div(appended_data, key)\n",
        "    return remainder\n",
        "\n",
        "def split(word):\n",
        "    return [char for char in word]\n",
        "\n",
        "def PS_FIXED(bits):\n",
        "    return bits.reshape((-1,))\n",
        "\n",
        "def resize_image(img_src, max_size):\n",
        "    height, width = img_src.shape[:2] # Get the original image dimensions\n",
        "    # Calculate the new dimensions while maintaining the aspect ratio\n",
        "    if width > height:\n",
        "        new_width = max_size\n",
        "        new_height = int(max_size * (height / width))\n",
        "    else:\n",
        "        new_height = max_size\n",
        "        new_width = int(max_size * (width / height))\n",
        "\n",
        "    return cv.resize(img_src, (new_width, new_height), cv.INTER_LINEAR)\n",
        "\n",
        "def rescale_image(img_src, scale):\n",
        "    height, width = img_src.shape[:2] # Get the original image dimensions\n",
        "    # Calculate the new dimensions based on the scale factor\n",
        "    new_width = int(width * scale)\n",
        "    new_height = int(height * scale)\n",
        "    return cv.resize(img_src, (new_width, new_height), cv.linINTER_LINEARe)"
      ]
    },
    {
      "cell_type": "markdown",
      "metadata": {},
      "source": [
        "### Channel functions"
      ]
    },
    {
      "cell_type": "code",
      "execution_count": 3,
      "metadata": {},
      "outputs": [],
      "source": [
        "def group_bits(bits, bits_per_group):\n",
        "    bits_groups = []\n",
        "    x = 0\n",
        "    for i in range((len(bits)//bits_per_group)+1):\n",
        "        bits_groups.append(bits[x:x+bits_per_group])\n",
        "        x = x+bits_per_group\n",
        "    bits_groups[-1] = np.zeros(bits_per_group, dtype = int)\n",
        "    return bits_groups\n",
        "\n",
        "def group_bits_zero_pad(bits, bits_per_group):\n",
        "    num_groups = (len(bits) + bits_per_group - 1) // bits_per_group\n",
        "    # Pad the bits list with zeros if needed\n",
        "    bits += [0] * (num_groups * bits_per_group - len(bits))\n",
        "    # Use a list comprehension to create the groups\n",
        "    bits_groups = [bits[i:i + bits_per_group] for i in range(0, len(bits), bits_per_group)]\n",
        "    return bits_groups\n",
        "\n",
        "def S2P(bits_serial : np.ndarray, length : int, mu : int):\n",
        "    return bits_serial.reshape(length, mu)\n",
        "\n",
        "def P2S(bits_parallel : np.ndarray):\n",
        "    return bits_parallel.reshape((-1,))\n",
        "\n",
        "def Mapping(bits, mapping_table):\n",
        "    return np.array([mapping_table[tuple(b)] for b in bits])\n",
        "\n",
        "def Demapping(QAM, mapping_table):\n",
        "    demapping_table = {v : k for k, v in mapping_table.items()}\n",
        "    # array of possible constellation points\n",
        "    constellation = np.array([x for x in demapping_table.keys()])\n",
        "    # calculate distance of each RX point to each possible point\n",
        "    dists = abs(QAM.reshape((-1,1)) - constellation.reshape((1,-1)))\n",
        "    # for each element in QAM, choose the index in constellation\n",
        "    # that belongs to the nearest constellation point\n",
        "    const_index = dists.argmin(axis=1)\n",
        "    # get back the real constellation point\n",
        "    hardDecision = constellation[const_index]\n",
        "    # transform the constellation point into the bit groups\n",
        "    return np.vstack([demapping_table[C] for C in hardDecision]), hardDecision\n",
        "\n",
        "def OFDM_symbol(QAM_payload, K, dataCarriers, pilotCarriers, pilotValue):\n",
        "    symbol = np.zeros(K, dtype=complex) # the overall K subcarriers\n",
        "    symbol[pilotCarriers] = pilotValue  # allocate the pilot subcarriers\n",
        "    symbol[dataCarriers] = QAM_payload  # allocate the pilot subcarriers\n",
        "    return symbol\n",
        "\n",
        "def IDFT(OFDM_data):\n",
        "    return np.fft.ifft(OFDM_data)\n",
        "\n",
        "\n",
        "def addCP(OFDM_time, CP):\n",
        "    cp = OFDM_time[-CP:]               # take the last CP samples ...\n",
        "    return np.hstack([cp, OFDM_time])  # add them to the beginning\n",
        "\n",
        "def removeCP(signal, CP, K):\n",
        "    return signal[CP:(CP+K)]\n",
        "\n",
        "def channel(signal, channelResponse, snrdb):\n",
        "    convolved = np.convolve(signal, channelResponse)\n",
        "    signal_power = np.mean(abs(convolved**2))\n",
        "    sigma2 = signal_power * 10**(-snrdb/10) # calculate noise power based on signal power and SNR\n",
        "    # print (\"RX Signal power: %.4f. Noise power: %.4f\" % (signal_power, sigma2))\n",
        "    # Generate complex noise with given variance\n",
        "    noise = np.sqrt(sigma2/2) * (np.random.randn(*convolved.shape)+1j*np.random.randn(*convolved.shape))\n",
        "    return convolved + noise\n",
        "\n",
        "def DFT(OFDM_RX):\n",
        "    return np.fft.fft(OFDM_RX)\n",
        "\n",
        "def channelEstimate(OFDM_demod, allCarriers, dataCarriers, pilotCarriers, pilotValue, H_exact):\n",
        "    pilots = OFDM_demod[pilotCarriers]      # extract the pilot values from the RX signal\n",
        "    Hest_at_pilots = pilots / pilotValue    # divide by the transmitted pilot values\n",
        "\n",
        "    # Perform interpolation between the pilot carriers to get an estimate\n",
        "    # of the channel in the data carriers. Here, we interpolate absolute value and phase\n",
        "    # separately\n",
        "    Hest_abs = scipy.interpolate.interp1d(pilotCarriers, abs(Hest_at_pilots), kind='linear')(allCarriers)\n",
        "    Hest_phase = scipy.interpolate.interp1d(pilotCarriers, np.angle(Hest_at_pilots), kind='linear')(allCarriers)\n",
        "    Hest = Hest_abs * np.exp(1j*Hest_phase)\n",
        "\n",
        "    plt.plot(allCarriers, abs(H_exact), label='Correct Channel')\n",
        "    plt.stem(pilotCarriers, abs(Hest_at_pilots), label='Pilot estimates')\n",
        "    plt.plot(allCarriers, abs(Hest), label='Estimated channel via interpolation')\n",
        "    plt.grid(True); plt.xlabel('Carrier index'); plt.ylabel('$|H(f)|$'); plt.legend(fontsize=10)\n",
        "    plt.ylim(0,2)\n",
        "\n",
        "    return Hest\n",
        "\n",
        "def channelEstimate_FIXED(OFDM_demod, allCarriers, dataCarriers, pilotCarriers, pilotValue, H_exact):\n",
        "    pilots = OFDM_demod[pilotCarriers]  # extract the pilot values from the RX signal\n",
        "    Hest_at_pilots = pilots / pilotValue # divide by the transmitted pilot values\n",
        "\n",
        "    # Perform interpolation between the pilot carriers to get an estimate\n",
        "    # of the channel in the data carriers. Here, we interpolate absolute value and phase\n",
        "    # separately\n",
        "    Hest_abs = scipy.interpolate.interp1d(pilotCarriers, abs(Hest_at_pilots), kind='linear')(allCarriers)\n",
        "    Hest_phase = scipy.interpolate.interp1d(pilotCarriers, np.angle(Hest_at_pilots), kind='linear')(allCarriers)\n",
        "    Hest = Hest_abs * np.exp(1j*Hest_phase)\n",
        "    return Hest\n",
        "\n",
        "def equalize(OFDM_demod, Hest):\n",
        "    return OFDM_demod / Hest\n",
        "\n",
        "def get_payload(equalized, dataCarriers):\n",
        "    return equalized[dataCarriers]"
      ]
    },
    {
      "cell_type": "markdown",
      "metadata": {
        "id": "eQwF0uGv1cE3"
      },
      "source": [
        "## Main"
      ]
    },
    {
      "cell_type": "markdown",
      "metadata": {},
      "source": [
        "### Parameters setup"
      ]
    },
    {
      "cell_type": "code",
      "execution_count": 4,
      "metadata": {
        "tags": [
          "parameters"
        ]
      },
      "outputs": [],
      "source": [
        "save_fig = True # To save plot during running"
      ]
    },
    {
      "cell_type": "markdown",
      "metadata": {
        "id": "IB3jO8oq3Olx"
      },
      "source": [
        "### Transmitter Part"
      ]
    },
    {
      "cell_type": "code",
      "execution_count": 12,
      "metadata": {},
      "outputs": [
        {
          "data": {
            "image/png": "[encoded data removed]",
            "text/plain": [
              "<Figure size 640x480 with 1 Axes>"
            ]
          },
          "metadata": {},
          "output_type": "display_data"
        }
      ],
      "source": [
        "# Read Image from file\n",
        "img = plt.imread(\"images/cat.jpg\")\n",
        "\n",
        "# Read Image from URL\n",
        "# url = \"https://sc04.alicdn.com/kf/Uc21f8e3d737e4cad81d95974852e0959I.jpg\"\n",
        "# img = covturl(url)\n",
        "# img = cv.imdecode(img,cv.IMREAD_COLOR) # BGR\n",
        "# img = cv.cvtColor(img, cv.COLOR_BGR2RGB) # RGB\n",
        "\n",
        "# Resize to reduce compute time\n",
        "img = resize_image(img, 100) # neither side exceed 256 pixels \n",
        "\n",
        "plt.imshow(img)\n",
        "if save_fig : plt.savefig(\"results/input.png\")\n",
        "plt.show()"
      ]
    },
    {
      "cell_type": "markdown",
      "metadata": {},
      "source": [
        "#### Data Pre-rocessing"
      ]
    },
    {
      "cell_type": "markdown",
      "metadata": {},
      "source": [
        "First we get all the pixels value of the image and lay them in a 1D array. This array is gonna have a size of `width x height x channel`"
      ]
    },
    {
      "cell_type": "code",
      "execution_count": 15,
      "metadata": {},
      "outputs": [
        {
          "name": "stdout",
          "output_type": "stream",
          "text": [
            "30000\n"
          ]
        }
      ],
      "source": [
        "pixels = img.reshape(img.shape[0]*img.shape[1]*img.shape[2])\n",
        "print(pixels.size)"
      ]
    },
    {
      "cell_type": "markdown",
      "metadata": {},
      "source": [
        "The pixels value is in decimal, we need to convert it into binary"
      ]
    },
    {
      "cell_type": "code",
      "execution_count": null,
      "metadata": {
        "id": "QTJDZ6D31wDx"
      },
      "outputs": [],
      "source": [
        "img_bytes = [format(pixel, \"08b\") for pixel in pixels]"
      ]
    },
    {
      "cell_type": "markdown",
      "metadata": {},
      "source": [
        "Subsequently, we using the CRC (Cyclic redundancy check) to add the key 1101 to each byte"
      ]
    },
    {
      "cell_type": "code",
      "execution_count": null,
      "metadata": {},
      "outputs": [],
      "source": [
        "key = \"1101\"\n",
        "img_en = [encodeData(i, key) for i in img_bytes]"
      ]
    },
    {
      "cell_type": "code",
      "execution_count": null,
      "metadata": {},
      "outputs": [],
      "source": [
        "img_bits = [[bit for bit in byte] for byte in np.array(img_en)]\n",
        "img_bits = np.vstack(img_bits)\n",
        "# img_ready_for_trans\n",
        "img_bits_tx = np.array([int(i[j]) for i in img_bits for j in range(11)])"
      ]
    },
    {
      "cell_type": "markdown",
      "metadata": {
        "id": "ZrrU49KC3QTf"
      },
      "source": [
        "### Channel Part"
      ]
    },
    {
      "cell_type": "markdown",
      "metadata": {},
      "source": [
        "In the following OFDM example, we will go through each block and describe its operation. However, before let us define some parameters that are used for the OFDM system:\n",
        "- The number of subcarriers $K$ describes, how many subcarriers are available in the OFDM system.\n",
        "- The length of the cyclic prefix (CP) denotes the number of samples that are copied from the end of the modulated block to the beginning, to yield a cyclic extension of the block.\n",
        "- The number of pilots $P$ in the OFDM symbol describes, how many carriers are used to transmit known information (i.e. pilots). Pilots will be used at the receiver to estimate the wireless channel between transmitter and receiver. Further, we also define the value that each pilots transmits (which is known to the receiver)."
      ]
    },
    {
      "cell_type": "code",
      "execution_count": null,
      "metadata": {},
      "outputs": [],
      "source": [
        "# CA\n",
        "K = 128                                 # number of OFDM subcarriers\n",
        "CP = K // 4                             # length of the cyclic prefix: 25% of the block\n",
        "P = 8                                   # number of pilot carriers per OFDM block\n",
        "SNRDB = 25                              # signal to noise-ratio in dB at the receiver\n",
        "pilotValue = 7+7j                       # The known value each pilot transmits\n",
        "allCarriers = np.arange(K)              # indices of all subcarriers ([0, 1, ... K-1])\n",
        "pilotCarriers = allCarriers[::K//P]     # Pilots is every (K/P)th carrier.\n",
        "\n",
        "# For convenience of channel estimation, the last carrier is also be a pilot\n",
        "pilotCarriers = np.hstack([pilotCarriers, np.array([allCarriers[-1]])])\n",
        "P = P+1\n",
        "\n",
        "# data carriers are all remaining carriers\n",
        "dataCarriers = np.delete(allCarriers, pilotCarriers)\n",
        "print (\"allCarriers:\\n\", allCarriers)\n",
        "print (\"pilotCarriers:\\n\", pilotCarriers)\n",
        "print (\"dataCarriers:\\n\", dataCarriers)\n",
        "\n",
        "plt.figure(figsize=(15,1))\n",
        "plt.xlim((-1,K)); plt.ylim((-0.1, 0.1))\n",
        "plt.xlabel('Carrier index')\n",
        "plt.yticks([])\n",
        "plt.grid(True)\n",
        "plt.plot(pilotCarriers, np.zeros_like(pilotCarriers), 'bo', label='pilot')\n",
        "plt.plot(dataCarriers, np.zeros_like(dataCarriers), 'ro', label='data')\n",
        "plt.legend(fontsize=10, ncol=2)\n",
        "if save_fig : plt.savefig(\"results/carrier_index.png\")\n",
        "plt.show()"
      ]
    },
    {
      "cell_type": "markdown",
      "metadata": {},
      "source": [
        "Let's define the modulation index $\\mu$ and the corresponding mapping table. We consider 16QAM transmission, i.e. we have $\\mu=6$ bits per symbol. Furthermore, the mapping from groups of 6 bits to a 64QAM constellation symbol shall be defined in `mapping_table`."
      ]
    },
    {
      "cell_type": "code",
      "execution_count": null,
      "metadata": {
        "colab": {
          "base_uri": "https://localhost:8080/",
          "height": 281
        },
        "id": "HobzuCVA3XFf",
        "outputId": "267113f3-6672-4d34-a68c-67d7374b8630"
      },
      "outputs": [],
      "source": [
        "mu = 6 # bits per symbol (64QAM)\n",
        "payloadBits_per_OFDM = len(dataCarriers)*mu # number of payload bits per OFDM symbol\n",
        "\n",
        "mapping_table = {\n",
        "    (0,0,0,0,0,0) : -7-7j,\n",
        "    (0,0,0,0,0,1) : -7-5j,\n",
        "    (0,0,0,0,1,1) : -7-3j,\n",
        "    (0,0,0,0,1,0) : -7-1j,\n",
        "    (0,0,0,1,1,0) : -7+1j,\n",
        "    (0,0,0,1,1,1) : -7+3j,\n",
        "    (0,0,0,1,0,1) : -7+5j,\n",
        "    (0,0,0,1,0,0) : -7+7j,\n",
        "    (0,0,1,1,0,0) : -5+7j,\n",
        "    (0,0,1,1,0,1) : -5+5j,\n",
        "    (0,0,1,1,1,1) : -5+3j,\n",
        "    (0,0,1,1,1,0) : -5+1j,\n",
        "    (0,0,1,0,1,0) : -5-1j,\n",
        "    (0,0,1,0,1,1) : -5-3j,\n",
        "    (0,0,1,0,0,1) : -5-5j,\n",
        "    (0,0,1,0,0,0) : -5-7j,\n",
        "    (0,1,1,0,0,0) : -3-7j,\n",
        "    (0,1,1,0,0,1) : -3-5j,\n",
        "    (0,1,1,0,1,1) : -3-3j,\n",
        "    (0,1,1,0,1,0) : -3-1j,\n",
        "    (0,1,1,1,1,0) : -3+1j,\n",
        "    (0,1,1,1,1,1) : -3+3j,\n",
        "    (0,1,1,1,0,1) : -3+5j,\n",
        "    (0,1,1,1,0,0) : -3+7j,\n",
        "    (0,1,0,1,0,0) : -1+7j,\n",
        "    (0,1,0,1,0,1) : -1+5j,\n",
        "    (0,1,0,1,1,1) : -1+3j,\n",
        "    (0,1,0,1,1,0) : -1+1j,\n",
        "    (0,1,0,0,1,0) : -1-1j,\n",
        "    (0,1,0,0,1,1) : -1-3j,\n",
        "    (0,1,0,0,0,1) : -1-5j,\n",
        "    (0,1,0,0,0,0) : -1-7j,\n",
        "    (1,1,0,0,0,0) : 1-7j,\n",
        "    (1,1,0,0,0,1) : 1-5j,\n",
        "    (1,1,0,0,1,1) : 1-3j,\n",
        "    (1,1,0,0,1,0) : 1-1j,\n",
        "    (1,1,0,1,1,0) : 1+1j,\n",
        "    (1,1,0,1,1,1) : 1+3j,\n",
        "    (1,1,0,1,0,1) : 1+5j,\n",
        "    (1,1,0,1,0,0) : 1+7j,\n",
        "    (1,1,1,1,0,0) : 3+7j,\n",
        "    (1,1,1,1,0,1) : 3+5j,\n",
        "    (1,1,1,1,1,1) : 3+3j,\n",
        "    (1,1,1,1,1,0) : 3+1j,\n",
        "    (1,1,1,0,1,0) : 3-1j,\n",
        "    (1,1,1,0,1,1) : 3-3j,\n",
        "    (1,1,1,0,0,1) : 3-5j,\n",
        "    (1,1,1,0,0,0) : 3-7j,\n",
        "    (1,0,1,0,0,0) : 5-7j,\n",
        "    (1,0,1,0,0,1) : 5-5j,\n",
        "    (1,0,1,0,1,1) : 5-3j,\n",
        "    (1,0,1,0,1,0) : 5-1j,\n",
        "    (1,0,1,1,1,0) : 5+1j,\n",
        "    (1,0,1,1,1,1) : 5+3j,\n",
        "    (1,0,1,1,0,1) : 5+5j,\n",
        "    (1,0,1,1,0,0) : 5+7j,\n",
        "    (1,0,0,1,0,0) : 7+7j,\n",
        "    (1,0,0,1,0,1) : 7+5j,\n",
        "    (1,0,0,1,1,1) : 7+3j,\n",
        "    (1,0,0,1,1,0) : 7+1j,\n",
        "    (1,0,0,0,1,0) : 7-1j,\n",
        "    (1,0,0,0,1,1) : 7-3j,\n",
        "    (1,0,0,0,0,1) : 7-5j,\n",
        "    (1,0,0,0,0,0) : 7-7j,\n",
        "}\n",
        "for d5 in [0,1]:\n",
        "    for d4 in [0,1]:\n",
        "        for d3 in [0,1]:\n",
        "            for d2 in [0,1]:\n",
        "                for d1 in [0,1]:\n",
        "                    for d0 in [0,1]:\n",
        "                        D = (d5,d4,d3,d2,d1,d0)\n",
        "                        Q = mapping_table[D]\n",
        "                        plt.plot(Q.real,Q.imag, 'bo')\n",
        "                        plt.text(Q.real,Q.imag+0.5, \"\".join(str(x) for x in D), ha = 'center')\n",
        "\n",
        "# plt.title(\"Mapping Table 6 symbol\")\n",
        "plt.grid(True)\n",
        "plt.xticks(range(-7,8,2))\n",
        "plt.yticks(range(-7,8,2))\n",
        "plt.xlim((-8, 8)); plt.ylim((-8,8))\n",
        "plt.xlabel('Real part (I)')\n",
        "plt.ylabel('Imaginary part (Q)')\n",
        "if save_fig : plt.savefig(\"results/mapping.png\")\n",
        "plt.show()"
      ]
    },
    {
      "cell_type": "markdown",
      "metadata": {},
      "source": [
        "We group the bits into a group of `payloadBits_per_OFDM`, which in this case, equals 714"
      ]
    },
    {
      "cell_type": "code",
      "execution_count": null,
      "metadata": {
        "colab": {
          "base_uri": "https://localhost:8080/",
          "height": 282
        },
        "id": "62gaOYQg3cDC",
        "outputId": "18d3d19f-20ad-4c2a-b02e-895be155cc90"
      },
      "outputs": [],
      "source": [
        "bits_groups = group_bits(img_bits_tx, payloadBits_per_OFDM)"
      ]
    },
    {
      "cell_type": "code",
      "execution_count": null,
      "metadata": {},
      "outputs": [],
      "source": [
        "## in this part, we demonstate selecting only 1 frame to send. ##\n",
        "demapping_table = {v : k for k, v in mapping_table.items()}\n",
        "channelResponse = np.array([1,0,0.1+0.1j]) # the impulse response of the wireless channel\n",
        "H_exact = np.fft.fft(channelResponse, K)\n",
        "plt.plot(allCarriers, abs(H_exact))\n",
        "if save_fig : plt.savefig(\"results/oneframe.png\")\n",
        "plt.show()"
      ]
    },
    {
      "cell_type": "markdown",
      "metadata": {},
      "source": [
        "The `bits` are now sent to a serial-to-parallel converter, which groups the bits for the OFDM frame into a groups of $\\mu$ bits (i.e. one group for each subcarrier):"
      ]
    },
    {
      "cell_type": "code",
      "execution_count": null,
      "metadata": {
        "colab": {
          "base_uri": "https://localhost:8080/"
        },
        "id": "COfNbRFb6KLv",
        "outputId": "a81cc911-c6b8-41ea-d4a7-564e070d2683"
      },
      "outputs": [],
      "source": [
        "# Serial/Parallel\n",
        "bits = np.array(bits_groups[2]) # we select frame 2 to send\n",
        "bits_SP = S2P(bits, len(dataCarriers), mu)\n",
        "print (\"First 5 bit groups:\")\n",
        "print (bits_SP[:5,:])"
      ]
    },
    {
      "cell_type": "markdown",
      "metadata": {},
      "source": [
        "Now, the bits groups are sent to the mapper. The mapper converts the groups into complex-valued constellation symbols according to the `mapping_table`."
      ]
    },
    {
      "cell_type": "code",
      "execution_count": null,
      "metadata": {
        "colab": {
          "base_uri": "https://localhost:8080/"
        },
        "id": "kj19rK1B6OWl",
        "outputId": "2b3739c2-34af-4a6d-c13f-9dcc411b7cd6"
      },
      "outputs": [],
      "source": [
        "QAM = Mapping(bits_SP, mapping_table)\n",
        "print (\"First 5 QAM symbols:\")\n",
        "print (QAM[:5])"
      ]
    },
    {
      "cell_type": "markdown",
      "metadata": {},
      "source": [
        "The next step (which is not shown in the diagram) is the allocation of different subcarriers with data and pilots. For each subcarrier we have defined wether it carries data or a pilot by the arrays `dataCarriers` and `pilotCarriers`.\n",
        "\n",
        "Next, to create the overall OFDM data, we need to put the data and pilots into the OFDM carriers.\n",
        "\n",
        "Now, the OFDM carriers contained in `OFDM_data` can be transformed to the time-domain by means of the IDFT operation. \n",
        "\n",
        "Subsequently, we add a cyclic prefix to the symbol. This operation concatenates a copy of the last `CP` samples of the OFDM time domain signal to the beginning. This way, a cyclic extension is achieved. The CP fulfills two tasks:\n",
        "\n",
        "1. It isolates different OFDM blocks from each other when the wireless channel contains multiple paths, i.e. is frequency-selective.\n",
        "2. It turns the linear convolution with the channel into a circular one. Only with a circular convolution, we can use the single-tap equalization OFDM is so famous for."
      ]
    },
    {
      "cell_type": "code",
      "execution_count": null,
      "metadata": {
        "colab": {
          "base_uri": "https://localhost:8080/"
        },
        "id": "8nboFmvz6QLt",
        "outputId": "fbeaa4f2-b1d4-47be-97fe-43c7d713b444"
      },
      "outputs": [],
      "source": [
        "OFDM_data = OFDM_symbol(QAM, K, dataCarriers, pilotCarriers, pilotValue)\n",
        "OFDM_time = IDFT(OFDM_data)\n",
        "OFDM_withCP = addCP(OFDM_time, CP)\n",
        "\n",
        "print(\"Number of OFDM carriers in frequency domain:     \", len(OFDM_data))\n",
        "print(\"Number of OFDM samples in time-domain before CP: \", len(OFDM_time))\n",
        "print(\"Number of OFDM samples in time domain with CP:   \", len(OFDM_withCP))"
      ]
    },
    {
      "cell_type": "markdown",
      "metadata": {},
      "source": [
        "Now, the signal is sent to the antenna and sent over the air to the receiver. In between both antennas, there is the wireless channel. We model this channel as a static multipath channel with impulse response `channelResponse`. Hence, the signal at the receive antenna is the convolution of the transmit signal with the channel response. Additionally, we add some noise to the signal according to the given SNR value:"
      ]
    },
    {
      "cell_type": "code",
      "execution_count": null,
      "metadata": {
        "colab": {
          "base_uri": "https://localhost:8080/",
          "height": 189
        },
        "id": "6Ohly8kx6UX6",
        "outputId": "b6ba87ef-7f9d-4ba1-b694-4e5a6664489e"
      },
      "outputs": [],
      "source": [
        "OFDM_TX = OFDM_withCP\n",
        "OFDM_RX = channel(OFDM_TX, channelResponse, SNRDB)\n",
        "\n",
        "plt.figure(figsize=(8,2))\n",
        "plt.plot(abs(OFDM_TX), label='TX signal')\n",
        "plt.plot(abs(OFDM_RX), label='RX signal')\n",
        "plt.legend(fontsize=10)\n",
        "plt.xlabel(\"Time\") \n",
        "plt.ylabel(\"|x(t)|\")\n",
        "plt.grid(True)\n",
        "if save_fig : plt.savefig(\"results/tx_rx.png\")\n",
        "plt.show()"
      ]
    },
    {
      "cell_type": "markdown",
      "metadata": {},
      "source": [
        "Now, at the receiver the CP is removed from the signal and a window of $K$ samples is extracted from the received signal.\n",
        "\n",
        "Afterwards, the signal is transformed back to the frequency domain, in order to have the received value on each subcarrier available.\n",
        "\n",
        "As the next step, the wireless channel needs to be estimated. For illustration purposes, we resort to a simple zero-forcing channel estimation followed by a simple interpolation. The principle of channel estimation is as follows:\n",
        "\n",
        "The transmit signal contains pilot values at certain pilot carriers. These pilot values and their position in the frequency domain (i.e. the pilot carrier index) are known to the receiver. From the received information at the pilot subcarriers, the receiver can estimate the effect of the wireless channel onto this subcarrier (because it knows what was transmitted and what was received). Hence, the receiver gains information about the wireless channel at the pilot carriers. However, it wants to know what happened at the data carriers. To achieve this, it interpolates the channel values between the pilot carriers to get an estimate of the channel in the data carriers.\n",
        "\n",
        "Now that the channel is estimated at all carriers, we can use this information in the channel equalizer step. Here, for each subcarrier, the influence of the channel is removed such that we get the clear (only noisy) constellation symbols back.\n",
        "\n",
        "The next step (not shown in the diagram) is to extract the data carriers from the equalized symbol. Here, we throw away the pilot carriers, as they do not provide any information, but were used for the channel estimation process."
      ]
    },
    {
      "cell_type": "code",
      "execution_count": null,
      "metadata": {
        "colab": {
          "base_uri": "https://localhost:8080/",
          "height": 354
        },
        "id": "Iht2XxHG6dJK",
        "outputId": "5994f78e-74dd-4d75-a4e1-4389b247b0cb"
      },
      "outputs": [],
      "source": [
        "OFDM_RX_noCP = removeCP(OFDM_RX, CP, K)\n",
        "OFDM_demod = DFT(OFDM_RX_noCP)\n",
        "Hest = channelEstimate(OFDM_demod, allCarriers, dataCarriers, pilotCarriers, pilotValue, H_exact)\n",
        "equalized_Hest = equalize(OFDM_demod, Hest)\n",
        "QAM_est = get_payload(equalized_Hest, dataCarriers)\n",
        "plt.plot(QAM_est.real, QAM_est.imag, 'bo', scalex = True, scaley = True)\n",
        "if save_fig : plt.savefig(\"results/estimated_channel.png\")\n",
        "plt.show()"
      ]
    },
    {
      "cell_type": "markdown",
      "metadata": {},
      "source": [
        "Now, that the constellation is obtained back, we need to send the complex values to the demapper, to transform the constellation points to the bit groups. In order to do this, we compare each received constellation point against each possible constellation point and choose the constellation point which is closest to the received point. Then, we return the bit-group that belongs to this point."
      ]
    },
    {
      "cell_type": "code",
      "execution_count": null,
      "metadata": {
        "colab": {
          "base_uri": "https://localhost:8080/",
          "height": 265
        },
        "id": "sPtaOJEx6zNa",
        "outputId": "57373d07-3339-4e7e-ce9b-c9cabc824d9a"
      },
      "outputs": [],
      "source": [
        "PS_est, hardDecision = Demapping(QAM_est, mapping_table)\n",
        "for qam, hard in zip(QAM_est, hardDecision):\n",
        "    plt.plot([qam.real, hard.real], [qam.imag, hard.imag], 'b-o')\n",
        "    plt.plot(hardDecision.real, hardDecision.imag, 'ro')\n",
        "    \n",
        "if save_fig : plt.savefig(\"results/received_constellation.png\")\n",
        "plt.show()"
      ]
    },
    {
      "cell_type": "markdown",
      "metadata": {},
      "source": [
        "In the diagram above, the blue points are the received QAM points, where as the the red points connected to them are the closest possible constellation points, and the bit groups corresponding to these red points are returned. \n",
        "\n",
        "Then, the bit groups need to be converted to a serial stream of bits, by means of parallel to serial conversion.\n",
        "\n",
        "Finally, we can calculate the bit error rate"
      ]
    },
    {
      "cell_type": "code",
      "execution_count": null,
      "metadata": {
        "colab": {
          "base_uri": "https://localhost:8080/"
        },
        "id": "Nied-co063Se",
        "outputId": "67f0ff03-262f-4917-b0ea-0a403a521d36"
      },
      "outputs": [],
      "source": [
        "bits_est = P2S(PS_est)\n",
        "print (\"Obtained Bit error rate: \", np.sum(abs(bits-bits_est))/len(bits))"
      ]
    },
    {
      "cell_type": "markdown",
      "metadata": {
        "id": "uX42Ng8m7bou"
      },
      "source": [
        "### Receiver Part"
      ]
    },
    {
      "cell_type": "code",
      "execution_count": null,
      "metadata": {
        "colab": {
          "base_uri": "https://localhost:8080/"
        },
        "id": "jEvrMSTy7dH_",
        "outputId": "4f2cf04f-7ba9-4984-c2b9-7fb5ae1d286d"
      },
      "outputs": [],
      "source": [
        "ber = 0\n",
        "bit_rx = []\n",
        "for bits_group in bits_groups:\n",
        "    bits_SP = S2P(bits_group, len(dataCarriers), mu)\n",
        "    QAM = Mapping(bits_SP, mapping_table)\n",
        "    OFDM_data = OFDM_symbol(QAM, K, dataCarriers, pilotCarriers, pilotValue)\n",
        "    OFDM_time = IDFT(OFDM_data)\n",
        "    OFDM_withCP = addCP(OFDM_time, CP)\n",
        "    OFDM_Tx = OFDM_withCP\n",
        "    OFDM_Rx = channel(OFDM_withCP, channelResponse, SNRDB)\n",
        "    OFDM_RX_noCP = OFDM_Rx[(CP):(CP+K)]\n",
        "    OFDM_demod = DFT(OFDM_RX_noCP)\n",
        "    Hest = channelEstimate_FIXED(OFDM_demod, allCarriers, dataCarriers, pilotCarriers, pilotValue, H_exact)\n",
        "    equalized_Hest = equalize(OFDM_demod, Hest)\n",
        "    QAM_est = get_payload(equalized_Hest, dataCarriers)\n",
        "    PS_est, hardDecision = Demapping(QAM_est, mapping_table)\n",
        "    bits_est = PS_FIXED(PS_est)\n",
        "    ber += np.sum(abs(bits_group-bits_est))/len(bits_group)\n",
        "    bit_rx.append(bits_est)\n",
        "print(\"Total BER is :\" + str(ber / ((len(img_bits_tx)//payloadBits_per_OFDM)+1)))\n",
        "print(\"All frames are sent\")"
      ]
    },
    {
      "cell_type": "code",
      "execution_count": null,
      "metadata": {},
      "outputs": [],
      "source": [
        "bit_rx = np.array(bit_rx)\n",
        "img_fr = []\n",
        "img_rfr = []\n",
        "for i in bit_rx:\n",
        "  img_fr.append(split(i))\n",
        "img_fr = np.vstack(img_fr)\n",
        "\n",
        "img_rfr = []\n",
        "for i in img_fr:\n",
        "    for j in range(len(img_fr[:2][1])):\n",
        "        img_rfr.append(int(i[j]))\n",
        "img_rfr = np.array(img_rfr)\n",
        "\n",
        "img_rfr1 = []\n",
        "for i in range(len(img_bits_tx)):\n",
        "    x = img_rfr[i]\n",
        "    img_rfr1.append(x)\n",
        "img_rfr1 = np.array(img_rfr1)\n",
        "\n",
        "img_rea = []\n",
        "k = 0\n",
        "for i in range(len(img_rfr1)):\n",
        "    img_rea.append(img_rfr1[k:k+11])\n",
        "    k+=11\n",
        "    \n",
        "img_done = []\n",
        "for i in img_rea[:]:\n",
        "    x = []\n",
        "    for j in range(len(i)):\n",
        "        x.append(str(i[j]))\n",
        "    img_done.append(x)\n",
        "\n",
        "sep = ''\n",
        "img_fin = []\n",
        "for i in img_done:\n",
        "    img_fin.append(sep.join(i))"
      ]
    },
    {
      "cell_type": "code",
      "execution_count": null,
      "metadata": {
        "colab": {
          "base_uri": "https://localhost:8080/"
        },
        "id": "bSYZ9dsy7mU5",
        "outputId": "353f6820-b2e7-46ee-d468-a11016997f8e"
      },
      "outputs": [],
      "source": [
        "#remove CRC and compare\n",
        "img_crc = [decodeData(i, key) for i in img_fin]\n",
        "\n",
        "count = 0\n",
        "for i in img_crc:\n",
        "    if i != '000':\n",
        "        if i!= '00':\n",
        "            count += 1\n",
        "\n",
        "print(\"Amount of total bits:    \", len(img_bits_tx))\n",
        "print(\"Amount of error bit(s):  \", count)"
      ]
    },
    {
      "cell_type": "code",
      "execution_count": null,
      "metadata": {
        "id": "PySqzib575UA"
      },
      "outputs": [],
      "source": [
        "#decode\n",
        "img_dec = np.array([i[0:8] for i in img_fin])"
      ]
    },
    {
      "cell_type": "code",
      "execution_count": null,
      "metadata": {
        "colab": {
          "base_uri": "https://localhost:8080/",
          "height": 517
        },
        "id": "0DDIJrvW78oo",
        "outputId": "9e12af04-130f-47ed-c513-25ceccbc2e80"
      },
      "outputs": [],
      "source": [
        "img_back = np.array([int(img_dec[i],2) for i in range(len(img_bytes))])\n",
        "img_back = img_back.reshape(img.shape[0], img.shape[1], img.shape[2])\n",
        "plt.imshow(img_back)\n",
        "if save_fig: plt.savefig(\"results/output.png\")\n",
        "plt.show()"
      ]
    },
    {
      "cell_type": "markdown",
      "metadata": {},
      "source": [
        "### Analysis"
      ]
    },
    {
      "cell_type": "code",
      "execution_count": null,
      "metadata": {},
      "outputs": [],
      "source": [
        "SNR_Array = np.arange(0, 40, 0.05)\n",
        "bitsnr = bits_groups[10]\n",
        "BER_Array = []\n",
        "for i in SNR_Array:\n",
        "    bits_SP = S2P(bitsnr, len(dataCarriers), mu)\n",
        "    QAM = Mapping(bits_SP, mapping_table)\n",
        "    OFDM_data = OFDM_symbol(QAM, K, dataCarriers, pilotCarriers, pilotValue)\n",
        "    OFDM_time = IDFT(OFDM_data)\n",
        "    OFDM_withCP = addCP(OFDM_time, CP)\n",
        "    OFDM_Tx = OFDM_withCP\n",
        "    OFDM_Rx = channel(OFDM_withCP, channelResponse, i)\n",
        "    OFDM_RX_noCP = OFDM_Rx[(CP):(CP+K)]\n",
        "    OFDM_demod = DFT(OFDM_RX_noCP)\n",
        "    Hest = channelEstimate_FIXED(OFDM_demod, allCarriers, dataCarriers, pilotCarriers, pilotValue, H_exact)\n",
        "    equalized_Hest = equalize(OFDM_demod, Hest)\n",
        "    QAM_est = get_payload(equalized_Hest, dataCarriers)\n",
        "    PS_est, hardDecision = Demapping(QAM_est, mapping_table)\n",
        "    bits_est = PS_FIXED(PS_est)\n",
        "    BER_Array.append(np.sum(abs(bitsnr-bits_est))/len(bitsnr))\n",
        "\n",
        "plt.plot(SNR_Array, BER_Array)\n",
        "plt.xlabel(\"SNR(E0/N0)\")\n",
        "plt.ylabel(\"Bit error rate(%)\")\n",
        "plt.grid(True)\n",
        "if save_fig: plt.savefig(\"results/ber.png\")\n",
        "plt.show()"
      ]
    },
    {
      "cell_type": "code",
      "execution_count": null,
      "metadata": {},
      "outputs": [],
      "source": [
        "ysmoothed = gaussian_filter1d(BER_Array, sigma=15)\n",
        "plt.plot(SNR_Array, ysmoothed, 'c')\n",
        "plt.xlabel(\"SNR(E0/N0)\")\n",
        "plt.ylabel(\"Bit error rate(%)\")\n",
        "plt.grid(True)\n",
        "plt.show()"
      ]
    },
    {
      "cell_type": "code",
      "execution_count": null,
      "metadata": {},
      "outputs": [],
      "source": [
        "# The expression of wave in time domain & frequency domain\n",
        "bit_x = 2\n",
        "a = 1\n",
        "b = 3\n",
        "\n",
        "sin_time = []\n",
        "#import math as math\n",
        "# Number of sample points\n",
        "N = 400\n",
        "# sample spacing\n",
        "T = 1 / 0.32e12\n",
        "t = np.linspace(0.0, N*T, N)\n",
        "fd = 0\n",
        "fc = 24e9\n",
        "s = np.zeros(len(t), dtype = float)\n",
        "bits_SP = S2P(bits_groups[bit_x], len(dataCarriers), mu)\n",
        "QAM = Mapping(bits_SP, mapping_table)\n",
        "OFDM_data = OFDM_symbol(QAM, K, dataCarriers, pilotCarriers, pilotValue)\n",
        "OFDM_time_V = IDFT(OFDM_data)\n",
        "for i in OFDM_time_V:\n",
        "    sin_time.append(abs(i)*np.sin(((2*np.pi)*(fc+fd)*t) + math.atan(i.imag/i.real)))\n",
        "    fd += 1e9\n",
        "for j in range(len(t)):\n",
        "    for i in sin_time:\n",
        "        s[j] += i[j]\n",
        "plt.plot(t,s)\n",
        "plt.grid(True)\n",
        "plt.xlabel(\"Time(s)\")\n",
        "plt.ylabel(\"Amplitude(V)\")\n",
        "plt.title(\"OFDM in time-domain\")\n",
        "if save_fig: plt.savefig(\"results/time_domain_1.png\")\n",
        "plt.show()\n",
        "\n",
        "#part2\n",
        "for i in range(a,b):\n",
        "    plt.plot(t, sin_time[i])\n",
        "    plt.grid(True)\n",
        "if save_fig: plt.savefig(\"results/time_domain_2.png\")\n",
        "plt.show()\n",
        "\n",
        "#part3\n",
        "for i in range(len(sin_time)):\n",
        "    yf = scipy.fftpack.fft(sin_time[i])\n",
        "    xf = np.linspace(0.0, 1.0/(2.0*T), int(N/2))\n",
        "    plt.plot(xf, 2.0/N * np.abs(yf[:N//2]))\n",
        "plt.grid(True)\n",
        "plt.title(\"OFDM in frequency-domain\")\n",
        "plt.ylabel(\"|H(f)|\")\n",
        "plt.xlabel(\"Frequency(Hz)\")\n",
        "if save_fig: plt.savefig(\"results/freq_domain_1.png\")\n",
        "plt.show()\n",
        "\n",
        "\n",
        "#look closely in 2 frequncies spiked\n",
        "# Number of sample points\n",
        "sin_time_x = []\n",
        "G = 75 #N\n",
        "# sample spacing\n",
        "M = 1 / 0.0580e12 #T\n",
        "O = np.linspace(0.0, G*M, G) #t\n",
        "fd = 0\n",
        "fc = 24e9\n",
        "s = np.zeros(len(O), dtype = float)\n",
        "for i in OFDM_time_V:\n",
        "    sin_time_x.append(abs(i)*np.sin(((2*np.pi)*(fc+fd)*O) + math.atan(i.imag/i.real)))\n",
        "    fd += 1e9\n",
        "for i in range(len(sin_time[0:2])):\n",
        "    yf = scipy.fftpack.fft(sin_time[i])\n",
        "    xf = np.linspace(0.0, 1.0/(2.0*M), int(G/2))\n",
        "    plt.plot(xf, 2.0/G * np.abs(yf[:G//2]))\n",
        "plt.grid(True)\n",
        "plt.title(\"OFDM in frequency-domain\")\n",
        "plt.ylabel(\"|H(f)|\")\n",
        "plt.xlabel(\"Frequency(Hz)\")\n",
        "if save_fig: plt.savefig(\"results/freq_domain_2.png\")\n",
        "plt.show()"
      ]
    }
  ],
  "metadata": {
    "colab": {
      "collapsed_sections": [],
      "name": "64_QAM_OFDM",
      "provenance": []
    },
    "kernelspec": {
      "display_name": "Python 3",
      "name": "python3"
    },
    "language_info": {
      "codemirror_mode": {
        "name": "ipython",
        "version": 3
      },
      "file_extension": ".py",
      "mimetype": "text/x-python",
      "name": "python",
      "nbconvert_exporter": "python",
      "pygments_lexer": "ipython3",
      "version": "3.10.6"
    }
  },
  "nbformat": 4,
  "nbformat_minor": 0
}
