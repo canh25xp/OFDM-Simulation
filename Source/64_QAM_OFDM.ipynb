{
  "cells": [
    {
      "cell_type": "markdown",
      "metadata": {},
      "source": [
        "# OFDM simulation using 64 QAM modulation\n",
        "OFDM (Orthogonal frequency division multiplexing) is a multicarrier system that is applied in a wide range of wireless transmission systems, such as LTE, WiMAX and DVB-T and DAB. The fundamental concept of a multicarrier system is the division of a high-rate transmitted data stream into several low-rate narrow subcarriers. This way, several advantages are obtained:\n",
        "- Since the symbol duration is inverse proportional to the symbol rate, each subcarrier has relatively long symbols. Long symbols are robust against multipath fading, as it occurs in wireless systems.\n",
        "- When a carrier is in a deep fade due to frequency-selectivity of the channel (i.e. the received energy on this carrier is very low), only the data on this subcarrier is lost, instead of the whole stream.\n",
        "- Multicarrier systems allow easy multi-user resource sharing by allocating different subcarriers to different users."
      ]
    },
    {
      "cell_type": "markdown",
      "metadata": {
        "id": "P_j2CYKm072f"
      },
      "source": [
        "## **Import libraries**"
      ]
    },
    {
      "cell_type": "code",
      "execution_count": 1,
      "metadata": {
        "id": "qnZwavps04uy"
      },
      "outputs": [],
      "source": [
        "# import cv2\n",
        "import numpy as np\n",
        "# import pandas as pd\n",
        "# import sys\n",
        "import matplotlib.pyplot as plt\n",
        "# import requests\n",
        "# import urllib.request\n",
        "# import scipy\n",
        "# from scipy import interpolate\n",
        "# from skimage import io\n",
        "# from google.colab.patches import cv2_imshow\n",
        "from scipy.ndimage import gaussian_filter1d\n",
        "# import scipy.fftpack\n",
        "import math as math\n",
        "from OFDM.helper import *\n",
        "from OFDM.channel import *"
      ]
    },
    {
      "cell_type": "markdown",
      "metadata": {
        "id": "eQwF0uGv1cE3"
      },
      "source": [
        "## **Main**"
      ]
    },
    {
      "cell_type": "markdown",
      "metadata": {
        "id": "IB3jO8oq3Olx"
      },
      "source": [
        "### Sender Part"
      ]
    },
    {
      "cell_type": "code",
      "execution_count": 19,
      "metadata": {
        "colab": {
          "base_uri": "https://localhost:8080/",
          "height": 534
        },
        "id": "_avsRcKn1fN3",
        "outputId": "cf4009cf-96ad-4ecf-e47a-ee828de6a0b9"
      },
      "outputs": [
        {
          "data": {
            "image/png": "[encoded data removed]",
            "text/plain": [
              "<Figure size 640x480 with 1 Axes>"
            ]
          },
          "metadata": {},
          "output_type": "display_data"
        }
      ],
      "source": [
        "# url = input(\"Enter your url :\")\n",
        "# img = covturl(url)\n",
        "# img = cv2.imdecode(img, cv2.IMREAD_COLOR)\n",
        "# img = cv2.imread(\"images/test.bmp\", cv2.IMREAD_GRAYSCALE)\n",
        "# img = cv2.imread(\"images/medium.bmp\", cv2.IMREAD_COLOR)\n",
        "# plt.imshow(cv2.cvtColor(img, cv2.COLOR_BGR2RGB))\n",
        "\n",
        "img = plt.imread(\"images/small.bmp\")\n",
        "\n",
        "plt.imshow(img)\n",
        "# plt.savefig(\"results/input.png\")\n",
        "plt.show()"
      ]
    },
    {
      "cell_type": "code",
      "execution_count": 20,
      "metadata": {
        "id": "QTJDZ6D31wDx"
      },
      "outputs": [
        {
          "data": {
            "text/plain": [
              "12288"
            ]
          },
          "execution_count": 20,
          "metadata": {},
          "output_type": "execute_result"
        }
      ],
      "source": [
        "# Data preprocessing : convert img to binary\n",
        "shape = img.shape[0]*img.shape[1]*img.shape[2] # width x height x chanel\n",
        "imgx = img\n",
        "img_reshape = img.reshape(shape)\n",
        "img_binary = []\n",
        "for i in img_reshape:\n",
        "    img_binary.append(\"{0:b}\".format(i).zfill(8))\n",
        "len(img_binary)"
      ]
    },
    {
      "cell_type": "code",
      "execution_count": 21,
      "metadata": {},
      "outputs": [],
      "source": [
        "# CRC adder with key \"1101\n",
        "key = \"1101\"\n",
        "img_en = []\n",
        "for i in img_binary:\n",
        "    img_en.append(encodeData(i, key))"
      ]
    },
    {
      "cell_type": "code",
      "execution_count": 22,
      "metadata": {
        "id": "sshO_Ini3CJx"
      },
      "outputs": [
        {
          "data": {
            "text/plain": [
              "135168"
            ]
          },
          "execution_count": 22,
          "metadata": {},
          "output_type": "execute_result"
        }
      ],
      "source": [
        "#transmit image\n",
        "img_en = np.array(img_en)\n",
        "img_for_trans1 = []\n",
        "img_ready_for_trans = []\n",
        "\n",
        "for i in img_en:\n",
        "    img_for_trans1.append(split(i))\n",
        "img_for_trans1 = np.vstack(img_for_trans1)\n",
        "\n",
        "for i in img_for_trans1:\n",
        "    for j in range(11):\n",
        "        img_ready_for_trans.append(int(i[j]))\n",
        "        \n",
        "img_ready_for_trans = np.array(img_ready_for_trans)\n",
        "img_rft = img_ready_for_trans\n",
        "len(img_rft)"
      ]
    },
    {
      "cell_type": "markdown",
      "metadata": {
        "id": "ZrrU49KC3QTf"
      },
      "source": [
        "### Channel Part"
      ]
    },
    {
      "cell_type": "markdown",
      "metadata": {},
      "source": [
        "In the following OFDM example, we will go through each block and describe its operation. However, before let us define some parameters that are used for the OFDM system:\n",
        "- The number of subcarriers $K$ describes, how many subcarriers are available in the OFDM system.\n",
        "- The length of the cyclic prefix (CP) denotes the number of samples that are copied from the end of the modulated block to the beginning, to yield a cyclic extension of the block.\n",
        "- The number of pilots $P$ in the OFDM symbol describes, how many carriers are used to transmit known information (i.e. pilots). Pilots will be used at the receiver to estimate the wireless channel between transmitter and receiver. Further, we also define the value that each pilots transmits (which is known to the receiver)."
      ]
    },
    {
      "cell_type": "code",
      "execution_count": 27,
      "metadata": {},
      "outputs": [
        {
          "name": "stdout",
          "output_type": "stream",
          "text": [
            "allCarriers:   [  0   1   2   3   4   5   6   7   8   9  10  11  12  13  14  15  16  17\n",
            "  18  19  20  21  22  23  24  25  26  27  28  29  30  31  32  33  34  35\n",
            "  36  37  38  39  40  41  42  43  44  45  46  47  48  49  50  51  52  53\n",
            "  54  55  56  57  58  59  60  61  62  63  64  65  66  67  68  69  70  71\n",
            "  72  73  74  75  76  77  78  79  80  81  82  83  84  85  86  87  88  89\n",
            "  90  91  92  93  94  95  96  97  98  99 100 101 102 103 104 105 106 107\n",
            " 108 109 110 111 112 113 114 115 116 117 118 119 120 121 122 123 124 125\n",
            " 126 127]\n",
            "pilotCarriers: [  0  16  32  48  64  80  96 112 127]\n",
            "dataCarriers:  [  1   2   3   4   5   6   7   8   9  10  11  12  13  14  15  17  18  19\n",
            "  20  21  22  23  24  25  26  27  28  29  30  31  33  34  35  36  37  38\n",
            "  39  40  41  42  43  44  45  46  47  49  50  51  52  53  54  55  56  57\n",
            "  58  59  60  61  62  63  65  66  67  68  69  70  71  72  73  74  75  76\n",
            "  77  78  79  81  82  83  84  85  86  87  88  89  90  91  92  93  94  95\n",
            "  97  98  99 100 101 102 103 104 105 106 107 108 109 110 111 113 114 115\n",
            " 116 117 118 119 120 121 122 123 124 125 126]\n"
          ]
        }
      ],
      "source": [
        "# CHANNEL SETTING\n",
        "\n",
        "# CA\n",
        "K = 128                                     # number of OFDM subcarriers\n",
        "CP = K // 4                                 # length of the cyclic prefix: 25% of the block\n",
        "P = 8                                       # number of pilot carriers per OFDM block\n",
        "pilotValue = 7+7j                           # The known value each pilot transmits\n",
        "allCarriers = np.arange(K)                  # indices of all subcarriers ([0, 1, ... K-1])\n",
        "pilotCarriers = allCarriers[::K//P]         # Pilots is every (K/P)th carrier.\n",
        "\n",
        "# For convenience of channel estimation, the last carrier is also be a pilot\n",
        "pilotCarriers = np.hstack([pilotCarriers, np.array([allCarriers[-1]])])\n",
        "P = P+1\n",
        "\n",
        "# data carriers are all remaining carriers\n",
        "dataCarriers = np.delete(allCarriers, pilotCarriers)\n",
        "print (\"allCarriers:   %s\" % allCarriers)\n",
        "print (\"pilotCarriers: %s\" % pilotCarriers)\n",
        "print (\"dataCarriers:  %s\" % dataCarriers)"
      ]
    },
    {
      "cell_type": "code",
      "execution_count": 31,
      "metadata": {
        "colab": {
          "base_uri": "https://localhost:8080/",
          "height": 571
        },
        "id": "MBngAXAO3Ss5",
        "outputId": "6b8b3914-c66a-4322-af6f-813d67392c0a"
      },
      "outputs": [
        {
          "data": {
            "image/png": "[encoded data removed]",
            "text/plain": [
              "<Figure size 1500x100 with 1 Axes>"
            ]
          },
          "metadata": {},
          "output_type": "display_data"
        }
      ],
      "source": [
        "plt.figure(figsize=(15,1))\n",
        "plt.xlim((-1,K)); plt.ylim((-0.1, 0.3))\n",
        "plt.xlabel('Carrier index')\n",
        "plt.yticks([])\n",
        "plt.grid(True)\n",
        "plt.plot(pilotCarriers, np.zeros_like(pilotCarriers), 'bo', label='pilot')\n",
        "plt.plot(dataCarriers, np.zeros_like(dataCarriers), 'ro', label='data')\n",
        "plt.legend(fontsize=10, ncol=2)\n",
        "plt.show()"
      ]
    },
    {
      "cell_type": "markdown",
      "metadata": {},
      "source": [
        "Let's define the modulation index $\\mu$ and the corresponding mapping table. We consider 16QAM transmission, i.e. we have $\\mu=6$ bits per symbol. Furthermore, the mapping from groups of 6 bits to a 64QAM constellation symbol shall be defined in `mapping_table`."
      ]
    },
    {
      "cell_type": "code",
      "execution_count": 34,
      "metadata": {
        "colab": {
          "base_uri": "https://localhost:8080/",
          "height": 281
        },
        "id": "HobzuCVA3XFf",
        "outputId": "267113f3-6672-4d34-a68c-67d7374b8630"
      },
      "outputs": [
        {
          "data": {
            "image/png": "[encoded data removed]",
            "text/plain": [
              "<Figure size 640x480 with 1 Axes>"
            ]
          },
          "metadata": {},
          "output_type": "display_data"
        }
      ],
      "source": [
        "mu = 6 # bits per symbol (64QAM)\n",
        "payloadBits_per_OFDM = len(dataCarriers)*mu # number of payload bits per OFDM symbol\n",
        "\n",
        "mapping_table = {\n",
        "    (0,0,0,0,0,0) : -7-7j,\n",
        "    (0,0,0,0,0,1) : -7-5j,\n",
        "    (0,0,0,0,1,1) : -7-3j,\n",
        "    (0,0,0,0,1,0) : -7-1j,\n",
        "    (0,0,0,1,1,0) : -7+1j,\n",
        "    (0,0,0,1,1,1) : -7+3j,\n",
        "    (0,0,0,1,0,1) : -7+5j,\n",
        "    (0,0,0,1,0,0) : -7+7j,\n",
        "    (0,0,1,1,0,0) : -5+7j,\n",
        "    (0,0,1,1,0,1) : -5+5j,\n",
        "    (0,0,1,1,1,1) : -5+3j,\n",
        "    (0,0,1,1,1,0) : -5+1j,\n",
        "    (0,0,1,0,1,0) : -5-1j,\n",
        "    (0,0,1,0,1,1) : -5-3j,\n",
        "    (0,0,1,0,0,1) : -5-5j,\n",
        "    (0,0,1,0,0,0) : -5-7j,\n",
        "    (0,1,1,0,0,0) : -3-7j,\n",
        "    (0,1,1,0,0,1) : -3-5j,\n",
        "    (0,1,1,0,1,1) : -3-3j,\n",
        "    (0,1,1,0,1,0) : -3-1j,\n",
        "    (0,1,1,1,1,0) : -3+1j,\n",
        "    (0,1,1,1,1,1) : -3+3j,\n",
        "    (0,1,1,1,0,1) : -3+5j,\n",
        "    (0,1,1,1,0,0) : -3+7j,\n",
        "    (0,1,0,1,0,0) : -1+7j,\n",
        "    (0,1,0,1,0,1) : -1+5j,\n",
        "    (0,1,0,1,1,1) : -1+3j,\n",
        "    (0,1,0,1,1,0) : -1+1j,\n",
        "    (0,1,0,0,1,0) : -1-1j,\n",
        "    (0,1,0,0,1,1) : -1-3j,\n",
        "    (0,1,0,0,0,1) : -1-5j,\n",
        "    (0,1,0,0,0,0) : -1-7j,\n",
        "    (1,1,0,0,0,0) : 1-7j,\n",
        "    (1,1,0,0,0,1) : 1-5j,\n",
        "    (1,1,0,0,1,1) : 1-3j,\n",
        "    (1,1,0,0,1,0) : 1-1j,\n",
        "    (1,1,0,1,1,0) : 1+1j,\n",
        "    (1,1,0,1,1,1) : 1+3j,\n",
        "    (1,1,0,1,0,1) : 1+5j,\n",
        "    (1,1,0,1,0,0) : 1+7j,\n",
        "    (1,1,1,1,0,0) : 3+7j,\n",
        "    (1,1,1,1,0,1) : 3+5j,\n",
        "    (1,1,1,1,1,1) : 3+3j,\n",
        "    (1,1,1,1,1,0) : 3+1j,\n",
        "    (1,1,1,0,1,0) : 3-1j,\n",
        "    (1,1,1,0,1,1) : 3-3j,\n",
        "    (1,1,1,0,0,1) : 3-5j,\n",
        "    (1,1,1,0,0,0) : 3-7j,\n",
        "    (1,0,1,0,0,0) : 5-7j,\n",
        "    (1,0,1,0,0,1) : 5-5j,\n",
        "    (1,0,1,0,1,1) : 5-3j,\n",
        "    (1,0,1,0,1,0) : 5-1j,\n",
        "    (1,0,1,1,1,0) : 5+1j,\n",
        "    (1,0,1,1,1,1) : 5+3j,\n",
        "    (1,0,1,1,0,1) : 5+5j,\n",
        "    (1,0,1,1,0,0) : 5+7j,\n",
        "    (1,0,0,1,0,0) : 7+7j,\n",
        "    (1,0,0,1,0,1) : 7+5j,\n",
        "    (1,0,0,1,1,1) : 7+3j,\n",
        "    (1,0,0,1,1,0) : 7+1j,\n",
        "    (1,0,0,0,1,0) : 7-1j,\n",
        "    (1,0,0,0,1,1) : 7-3j,\n",
        "    (1,0,0,0,0,1) : 7-5j,\n",
        "    (1,0,0,0,0,0) : 7-7j,\n",
        "}\n",
        "for d5 in [0,1]:\n",
        "    for d4 in [0,1]:\n",
        "        for d3 in [0,1]:\n",
        "            for d2 in [0,1]:\n",
        "                for d1 in [0,1]:\n",
        "                    for d0 in [0,1]:\n",
        "                        D = (d5,d4,d3,d2,d1,d0)\n",
        "                        Q = mapping_table[D]\n",
        "                        plt.plot(Q.real,Q.imag, 'bo')\n",
        "                        plt.text(Q.real,Q.imag+0.5, \"\".join(str(x) for x in D), ha = 'center')\n",
        "\n",
        "# plt.title(\"Mapping Table 6 symbol\")\n",
        "plt.grid(True)\n",
        "plt.xticks(range(-7,8,2))\n",
        "plt.yticks(range(-7,8,2))\n",
        "plt.xlim((-8, 8)); plt.ylim((-8,8))\n",
        "plt.xlabel('Real part (I)')\n",
        "plt.ylabel('Imaginary part (Q)')     \n",
        "plt.show()\n",
        "# plt.savefig(\"results/mapping.png\")"
      ]
    },
    {
      "cell_type": "code",
      "execution_count": 33,
      "metadata": {
        "colab": {
          "base_uri": "https://localhost:8080/",
          "height": 282
        },
        "id": "62gaOYQg3cDC",
        "outputId": "18d3d19f-20ad-4c2a-b02e-895be155cc90"
      },
      "outputs": [
        {
          "data": {
            "image/png": "[encoded data removed]",
            "text/plain": [
              "<Figure size 640x480 with 1 Axes>"
            ]
          },
          "metadata": {},
          "output_type": "display_data"
        }
      ],
      "source": [
        "bitx = group_bits(img_rft, payloadBits_per_OFDM)\n",
        "## in this part, we demonstate selecting only 1 frame to send. ##\n",
        "\n",
        "demapping_table = {v : k for k, v in mapping_table.items()}\n",
        "channelResponse = np.array([1,0,0.1+0.1j]) # the impulse response of the wireless channel\n",
        "H_exact = np.fft.fft(channelResponse, K)\n",
        "plt.plot(allCarriers, abs(H_exact))\n",
        "plt.show()\n",
        "# plt.savefig(\"results/oneframe.png\")"
      ]
    },
    {
      "cell_type": "code",
      "execution_count": 37,
      "metadata": {
        "colab": {
          "base_uri": "https://localhost:8080/"
        },
        "id": "COfNbRFb6KLv",
        "outputId": "a81cc911-c6b8-41ea-d4a7-564e070d2683"
      },
      "outputs": [
        {
          "name": "stdout",
          "output_type": "stream",
          "text": [
            "First 5 bit groups\n",
            "[[0 1 0 1 0 1]\n",
            " [0 1 0 1 0 1]\n",
            " [1 0 1 0 1 0]\n",
            " [1 0 1 0 1 1]\n",
            " [0 1 0 1 1 1]]\n",
            "\n",
            "\n"
          ]
        }
      ],
      "source": [
        "SNRdb = 20# signal to noise-ratio in dB at the receiver\n",
        "#S/P\n",
        "bits = np.array(bitx[2]) #we select frame 2 to send\n",
        "bits_SP = SP(bits, dataCarriers, mu)\n",
        "print (\"First 5 bit groups\")\n",
        "print (bits_SP[:5,:])\n",
        "print(\"\\n\")"
      ]
    },
    {
      "cell_type": "code",
      "execution_count": null,
      "metadata": {
        "colab": {
          "base_uri": "https://localhost:8080/"
        },
        "id": "kj19rK1B6OWl",
        "outputId": "2b3739c2-34af-4a6d-c13f-9dcc411b7cd6"
      },
      "outputs": [],
      "source": [
        "QAM = Mapping(bits_SP, mapping_table)\n",
        "print (\"First 5 QAM symbols and bits:\")\n",
        "print (bits_SP[:5,:])\n",
        "print (QAM[:5])"
      ]
    },
    {
      "cell_type": "code",
      "execution_count": null,
      "metadata": {
        "colab": {
          "base_uri": "https://localhost:8080/"
        },
        "id": "8nboFmvz6QLt",
        "outputId": "fbeaa4f2-b1d4-47be-97fe-43c7d713b444"
      },
      "outputs": [],
      "source": [
        "OFDM_data = OFDM_symbol(QAM, K, pilotCarriers, dataCarriers, pilotValue)\n",
        "OFDM_time = IDFT(OFDM_data)\n",
        "OFDM_withCP = addCP(OFDM_time, CP)\n",
        "\n",
        "print(\"Number of OFDM carriers in frequency domain: \", len(OFDM_data))\n",
        "print(\"Number of OFDM samples in time-domain before CP: \", len(OFDM_time))\n",
        "print(\"Number of OFDM samples in time domain with CP: \", len(OFDM_withCP))"
      ]
    },
    {
      "cell_type": "code",
      "execution_count": null,
      "metadata": {
        "colab": {
          "base_uri": "https://localhost:8080/",
          "height": 189
        },
        "id": "6Ohly8kx6UX6",
        "outputId": "b6ba87ef-7f9d-4ba1-b694-4e5a6664489e"
      },
      "outputs": [],
      "source": [
        "OFDM_TX = OFDM_withCP\n",
        "OFDM_RX = channel(OFDM_TX, channelResponse, SNRdb)\n",
        "\n",
        "plt.figure(figsize=(8,2))\n",
        "plt.plot(abs(OFDM_TX), label='TX signal')\n",
        "plt.plot(abs(OFDM_RX), label='RX signal')\n",
        "plt.legend(fontsize=10)\n",
        "plt.xlabel(\"Time\") \n",
        "plt.ylabel(\"|x(t)|\")\n",
        "plt.grid(True)\n",
        "\n",
        "plt.savefig(\"results/tx_rx.png\")\n"
      ]
    },
    {
      "cell_type": "code",
      "execution_count": null,
      "metadata": {
        "colab": {
          "base_uri": "https://localhost:8080/",
          "height": 354
        },
        "id": "Iht2XxHG6dJK",
        "outputId": "5994f78e-74dd-4d75-a4e1-4389b247b0cb"
      },
      "outputs": [],
      "source": [
        "OFDM_RX_noCP = removeCP(OFDM_RX, CP, K)\n",
        "OFDM_demod = DFT(OFDM_RX_noCP)\n",
        "print(\"\\n\")\n",
        "Hest = channelEstimate(OFDM_demod, pilotCarriers, pilotValue, allCarriers, H_exact)\n",
        "equalized_Hest = equalize(OFDM_demod, Hest)\n",
        "QAM_est = get_payload(equalized_Hest, dataCarriers)\n",
        "plt.plot(QAM_est.real, QAM_est.imag, 'bo', scalex = True, scaley = True)"
      ]
    },
    {
      "cell_type": "code",
      "execution_count": null,
      "metadata": {
        "colab": {
          "base_uri": "https://localhost:8080/",
          "height": 265
        },
        "id": "sPtaOJEx6zNa",
        "outputId": "57373d07-3339-4e7e-ce9b-c9cabc824d9a"
      },
      "outputs": [],
      "source": [
        "PS_est, hardDecision = Demapping(QAM_est, demapping_table)\n",
        "for qam, hard in zip(QAM_est, hardDecision):\n",
        "    plt.plot([qam.real, hard.real], [qam.imag, hard.imag], 'b-o')\n",
        "    plt.plot(hardDecision.real, hardDecision.imag, 'ro')"
      ]
    },
    {
      "cell_type": "code",
      "execution_count": null,
      "metadata": {
        "colab": {
          "base_uri": "https://localhost:8080/"
        },
        "id": "Nied-co063Se",
        "outputId": "67f0ff03-262f-4917-b0ea-0a403a521d36"
      },
      "outputs": [],
      "source": [
        "bits_est = PS(PS_est)\n",
        "print (\"Obtained Bit error rate: \", np.sum(abs(bits-bits_est))/len(bits))"
      ]
    },
    {
      "cell_type": "code",
      "execution_count": null,
      "metadata": {
        "colab": {
          "base_uri": "https://localhost:8080/",
          "height": 279
        },
        "id": "9elb3-Gq64Aq",
        "outputId": "2dc2d9af-fc23-4b3a-ff03-ce9422a66c2c"
      },
      "outputs": [],
      "source": [
        "SNR_fp, ber_fp = SNR_return(50, channelResponse, dataCarriers, mu, bitx, CP, K, mapping_table)\n",
        "plt.plot(SNR_fp, ber_fp)\n",
        "plt.xlabel(\"SNR(E0/N0)\")\n",
        "plt.ylabel(\"Bit error rate(%)\")\n",
        "plt.grid(True)\n",
        "plt.savefig(\"results/ber.png\")\n",
        "plt.show()"
      ]
    },
    {
      "cell_type": "code",
      "execution_count": null,
      "metadata": {
        "colab": {
          "base_uri": "https://localhost:8080/",
          "height": 279
        },
        "id": "Acf2pPlt65qU",
        "outputId": "bca2ab7d-847a-4331-d8fa-c8c8b8b74b0b"
      },
      "outputs": [],
      "source": [
        "ysmoothed = gaussian_filter1d(ber_fp, sigma=15)\n",
        "plt.plot(SNR_fp, ysmoothed, 'c')\n",
        "plt.xlabel(\"SNR(E0/N0)\")\n",
        "plt.ylabel(\"Bit error rate(%)\")\n",
        "plt.grid(True)\n",
        "plt.show()"
      ]
    },
    {
      "cell_type": "code",
      "execution_count": null,
      "metadata": {
        "colab": {
          "base_uri": "https://localhost:8080/",
          "height": 1000
        },
        "id": "GPYLy3JD7OCF",
        "outputId": "edc8dab1-8928-4207-dd47-c858aa4a6dbc"
      },
      "outputs": [],
      "source": [
        "## The expression of wave in time domain & frequency domain\n",
        "bit_plot(2, 1, 3)"
      ]
    },
    {
      "cell_type": "markdown",
      "metadata": {
        "id": "uX42Ng8m7bou"
      },
      "source": [
        "### Receiver Part"
      ]
    },
    {
      "cell_type": "code",
      "execution_count": null,
      "metadata": {
        "colab": {
          "base_uri": "https://localhost:8080/"
        },
        "id": "jEvrMSTy7dH_",
        "outputId": "4f2cf04f-7ba9-4984-c2b9-7fb5ae1d286d"
      },
      "outputs": [],
      "source": [
        "SNR = 1 #Change to adjust channel quaility\n",
        "bit_rx = pro_bits(SNR, bitx)\n",
        "\n",
        "bit_rx = np.array(bit_rx)\n",
        "img_fr = []\n",
        "img_rfr = []\n",
        "for i in bit_rx:\n",
        "  img_fr.append(split(i))\n",
        "img_fr = np.vstack(img_fr)\n",
        "\n",
        "img_rfr = []\n",
        "for i in img_fr:\n",
        "    for j in range(len(img_fr[:2][1])):\n",
        "        img_rfr.append(int(i[j]))\n",
        "img_rfr = np.array(img_rfr)\n",
        "\n",
        "img_rfr1 = []\n",
        "for i in range(len(img_rft)):\n",
        "    x = img_rfr[i]\n",
        "    img_rfr1.append(x)\n",
        "img_rfr1 = np.array(img_rfr1)\n",
        "\n",
        "img_rea = []\n",
        "k = 0\n",
        "for i in range(len(img_rfr1)):\n",
        "    img_rea.append(img_rfr1[k:k+11])\n",
        "    k+=11\n",
        "    \n",
        "img_done = []\n",
        "for i in img_rea[:]:\n",
        "    x = []\n",
        "    for j in range(len(i)):\n",
        "        x.append(str(i[j]))\n",
        "    img_done.append(x)\n",
        "\n",
        "sep = ''\n",
        "img_fin = []\n",
        "for i in img_done:\n",
        "    img_fin.append(sep.join(i))"
      ]
    },
    {
      "cell_type": "code",
      "execution_count": null,
      "metadata": {
        "colab": {
          "base_uri": "https://localhost:8080/"
        },
        "id": "bSYZ9dsy7mU5",
        "outputId": "353f6820-b2e7-46ee-d468-a11016997f8e"
      },
      "outputs": [],
      "source": [
        "#remove CRC and compare\n",
        "img_crc = []\n",
        "for i in img_fin:\n",
        "    img_crc.append(decodeData(i, key))\n",
        "\n",
        "count = 0\n",
        "for i in img_crc:\n",
        "    if i != '000':\n",
        "        if i!= '00':\n",
        "            count += 1\n",
        "\n",
        "print(\"Amount of total bits: %10d\" %(len(img_rft)))\n",
        "print(\"Amount of error bit(s): %4d\" %count)"
      ]
    },
    {
      "cell_type": "code",
      "execution_count": null,
      "metadata": {
        "id": "PySqzib575UA"
      },
      "outputs": [],
      "source": [
        "#decode\n",
        "img_dec = []\n",
        "for i in img_fin:\n",
        "    img_dec.append(i[0:8])\n",
        "img_dec = np.array(img_dec)\n"
      ]
    },
    {
      "cell_type": "code",
      "execution_count": null,
      "metadata": {
        "colab": {
          "base_uri": "https://localhost:8080/",
          "height": 517
        },
        "id": "0DDIJrvW78oo",
        "outputId": "9e12af04-130f-47ed-c513-25ceccbc2e80"
      },
      "outputs": [],
      "source": [
        "##We can change SNR to see another quality of the image after passing the channel \n",
        "img_back = []\n",
        "for i in range(len(img_binary)):\n",
        "    img_back.append(int(img_dec[i],2))\n",
        "img_back = np.array(img_back)\n",
        "img_back = img_back.reshape(imgx.shape[0], imgx.shape[1], imgx.shape[2])\n",
        "plt.imshow(img_back)"
      ]
    }
  ],
  "metadata": {
    "colab": {
      "collapsed_sections": [],
      "name": "64_QAM_OFDM",
      "provenance": []
    },
    "kernelspec": {
      "display_name": "Python 3",
      "name": "python3"
    },
    "language_info": {
      "codemirror_mode": {
        "name": "ipython",
        "version": 3
      },
      "file_extension": ".py",
      "mimetype": "text/x-python",
      "name": "python",
      "nbconvert_exporter": "python",
      "pygments_lexer": "ipython3",
      "version": "3.10.6"
    }
  },
  "nbformat": 4,
  "nbformat_minor": 0
}
