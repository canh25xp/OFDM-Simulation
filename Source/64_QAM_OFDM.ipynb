{
 "cells": [
  {
   "cell_type": "markdown",
   "metadata": {},
   "source": [
    "# OFDM simulation using 64 QAM modulation\n",
    "OFDM (Orthogonal frequency division multiplexing) is a multicarrier system that is applied in a wide range of wireless transmission systems, such as LTE, WiMAX and DVB-T and DAB. The fundamental concept of a multicarrier system is the division of a high-rate transmitted data stream into several low-rate narrow subcarriers. This way, several advantages are obtained:\n",
    "- Since the symbol duration is inverse proportional to the symbol rate, each subcarrier has relatively long symbols. Long symbols are robust against multipath fading, as it occurs in wireless systems.\n",
    "- When a carrier is in a deep fade due to frequency-selectivity of the channel (i.e. the received energy on this carrier is very low), only the data on this subcarrier is lost, instead of the whole stream.\n",
    "- Multicarrier systems allow easy multi-user resource sharing by allocating different subcarriers to different users."
   ]
  },
  {
   "cell_type": "markdown",
   "metadata": {
    "id": "P_j2CYKm072f"
   },
   "source": [
    "## Import libraries"
   ]
  },
  {
   "cell_type": "code",
   "execution_count": null,
   "metadata": {
    "id": "qnZwavps04uy"
   },
   "outputs": [],
   "source": [
    "import cv2 as cv\n",
    "from pathlib import Path\n",
    "import numpy as np\n",
    "import matplotlib.pyplot as plt\n",
    "import math as math\n",
    "import requests\n",
    "import scipy\n",
    "from scipy.ndimage import gaussian_filter1d\n",
    "import scipy.fftpack"
   ]
  },
  {
   "cell_type": "markdown",
   "metadata": {},
   "source": [
    "## Define Functions"
   ]
  },
  {
   "cell_type": "markdown",
   "metadata": {},
   "source": [
    "### Helper functions"
   ]
  },
  {
   "cell_type": "code",
   "execution_count": null,
   "metadata": {},
   "outputs": [],
   "source": [
    "def xor(a, b):\n",
    "    # initialize result\n",
    "    result = []\n",
    "    # same, then XOR is 0, else 1\n",
    "    for i in range(1, len(b)):\n",
    "        if a[i] == b[i]:\n",
    "            result.append('0')\n",
    "        else:\n",
    "            result.append('1')\n",
    "    return ''.join(result)\n",
    "\n",
    "\n",
    "def url2img(urls, RGB = False):\n",
    "    resp = requests.get(urls, stream=True).raw\n",
    "    img = np.asarray(bytearray(resp.read()), dtype=\"uint8\")\n",
    "    img = cv.imdecode(img, cv.IMREAD_COLOR)\n",
    "    if RGB :\n",
    "        img = cv.cvtColor(img, cv.COLOR_BGR2RGB)\n",
    "    return img\n",
    "\n",
    "\n",
    "def mod2div(divident, divisor):\n",
    "    # Number of bits to be XORed at a time.\n",
    "    pick = len(divisor)\n",
    "    # Slicing the divident to appropriate\n",
    "    # length for particular step\n",
    "    tmp = divident[0 : pick]\n",
    "    while pick < len(divident):\n",
    "        if tmp[0] == '1':\n",
    "            # replace the divident by the result\n",
    "            # of XOR and pull 1 bit down\n",
    "            tmp = xor(divisor, tmp) + divident[pick]\n",
    "        else:\n",
    "            # If the leftmost bit of the dividend (or the\n",
    "            # part used in each step) is 0, the step cannot\n",
    "            # use the regular divisor; we need to use an\n",
    "            # all-0s divisor.\n",
    "            tmp = xor('0'*pick, tmp) + divident[pick]\n",
    "\n",
    "        # increment pick to move further\n",
    "        pick += 1\n",
    "\n",
    "    # For the last n bits, we have to carry it out\n",
    "    # normally as increased value of pick will cause\n",
    "    # Index Out of Bounds.\n",
    "    if tmp[0] == '1':\n",
    "        tmp = xor(divisor, tmp)\n",
    "    else:\n",
    "        tmp = xor('0'*pick, tmp)\n",
    "\n",
    "    checkword = tmp\n",
    "    return checkword\n",
    "\n",
    "\n",
    "def encodeData(data, key):\n",
    "    l_key = len(key)\n",
    "    # Appends n-1 zeroes at end of data\n",
    "    appended_data = data + '0'*(l_key-1)\n",
    "    remainder = mod2div(appended_data, key)\n",
    "    # Append remainder in the original data\n",
    "    codeword = data + remainder\n",
    "    return codeword\n",
    "\n",
    "\n",
    "def decodeData(data, key):\n",
    "    l_key = len(key)\n",
    "    # Appends n-1 zeroes at end of data\n",
    "    appended_data = data + '0'*(l_key-1)\n",
    "    remainder = mod2div(appended_data, key)\n",
    "    return remainder\n",
    "\n",
    "\n",
    "def count_error(data):\n",
    "    count = 0\n",
    "    for i in data:\n",
    "        if i != '000':\n",
    "            if i!= '00':\n",
    "                count += 1\n",
    "    return count # number error bits\n",
    "\n",
    "\n",
    "def split(word):\n",
    "    return [char for char in word]\n",
    "\n",
    "\n",
    "def resize_image(img_src, max_size):\n",
    "    height, width = img_src.shape[:2] # Get the original image dimensions\n",
    "    # Calculate the new dimensions while maintaining the aspect ratio\n",
    "    if width > height:\n",
    "        new_width = max_size\n",
    "        new_height = int(max_size * (height / width))\n",
    "    else:\n",
    "        new_height = max_size\n",
    "        new_width = int(max_size * (width / height))\n",
    "\n",
    "    return cv.resize(img_src, (new_width, new_height), cv.INTER_LINEAR)\n",
    "\n",
    "\n",
    "def rescale_image(img_src, scale):\n",
    "    height, width = img_src.shape[:2] # Get the original image dimensions\n",
    "    # Calculate the new dimensions based on the scale factor\n",
    "    new_width = int(width * scale)\n",
    "    new_height = int(height * scale)\n",
    "    return cv.resize(img_src, (new_width, new_height), cv.INTER_LINEAR)"
   ]
  },
  {
   "cell_type": "markdown",
   "metadata": {},
   "source": [
    "### Channel functions"
   ]
  },
  {
   "cell_type": "code",
   "execution_count": null,
   "metadata": {},
   "outputs": [],
   "source": [
    "def group_bits(bits, bits_per_group):\n",
    "    bits_groups = []\n",
    "    x = 0\n",
    "    num_groups = (len(bits)//bits_per_group)+1\n",
    "    for i in range(num_groups):\n",
    "        bits_groups.append(bits[x:x+bits_per_group])\n",
    "        x = x+bits_per_group\n",
    "    bits_groups[-1] = np.zeros(bits_per_group, dtype = int)\n",
    "    return bits_groups\n",
    "\n",
    "\n",
    "def group_bits_zero_pad(bits, bits_per_group):\n",
    "    num_groups = (len(bits) + bits_per_group - 1) // bits_per_group\n",
    "    # Pad the bits list with zeros if needed\n",
    "    bits_zero_pad = bits\n",
    "    bits_zero_pad.resize(num_groups*bits_per_group, refcheck=False)\n",
    "    # Use a list comprehension to create the groups\n",
    "    bits_groups = [bits_zero_pad[i:i + bits_per_group] for i in range(0, len(bits), bits_per_group)]\n",
    "    return bits_groups\n",
    "\n",
    "\n",
    "def S2P(bits_serial : np.ndarray, length : int, mu : int):\n",
    "    return bits_serial.reshape(length, mu)\n",
    "\n",
    "\n",
    "def P2S(bits_parallel : np.ndarray):\n",
    "    return bits_parallel.reshape((-1,))\n",
    "\n",
    "\n",
    "def Mapping(bits, mapping_table):\n",
    "    return np.array([mapping_table[tuple(b)] for b in bits])\n",
    "\n",
    "\n",
    "def Demapping(QAM, demapping_table):\n",
    "    # array of possible constellation points\n",
    "    constellation = np.array([x for x in demapping_table.keys()])\n",
    "    # calculate distance of each RX point to each possible point\n",
    "    dists = abs(QAM.reshape((-1,1)) - constellation.reshape((1,-1)))\n",
    "    # for each element in QAM, choose the index in constellation\n",
    "    # that belongs to the nearest constellation point\n",
    "    const_index = dists.argmin(axis=1)\n",
    "    # get back the real constellation point\n",
    "    hardDecision = constellation[const_index]\n",
    "    # transform the constellation point into the bit groups\n",
    "    return np.vstack([demapping_table[C] for C in hardDecision]), hardDecision\n",
    "\n",
    "\n",
    "def OFDM_symbol(QAM_payload, K, dataCarriers, pilotCarriers, pilotValue):\n",
    "    symbol = np.zeros(K, dtype=complex) # the overall K subcarriers\n",
    "    symbol[pilotCarriers] = pilotValue  # allocate the pilot subcarriers\n",
    "    symbol[dataCarriers] = QAM_payload  # allocate the pilot subcarriers\n",
    "    return symbol\n",
    "\n",
    "\n",
    "def FFT(OFDM_RX):\n",
    "    return np.fft.fft(OFDM_RX)\n",
    "\n",
    "\n",
    "def IFFT(OFDM_data):\n",
    "    return np.fft.ifft(OFDM_data)\n",
    "\n",
    "\n",
    "def addCP(OFDM_time, CP):\n",
    "    cp = OFDM_time[-CP:]               # take the last CP samples ...\n",
    "    return np.hstack([cp, OFDM_time])  # add them to the beginning\n",
    "\n",
    "\n",
    "def removeCP(signal, CP, K):\n",
    "    return signal[CP:(CP+K)]\n",
    "\n",
    "\n",
    "def equalize(OFDM_demod, Hest):\n",
    "    return OFDM_demod / Hest\n",
    "\n",
    "\n",
    "def get_payload(equalized, dataCarriers):\n",
    "    return equalized[dataCarriers]\n",
    "\n",
    "\n",
    "def channel(signal, channelResponse, snrdb):\n",
    "    convolved = np.convolve(signal, channelResponse)\n",
    "    signal_power = np.mean(abs(convolved**2))\n",
    "    sigma2 = signal_power * 10**(-snrdb/10) # calculate noise power based on signal power and SNR\n",
    "    # print (\"RX Signal power: %.4f. Noise power: %.4f\" % (signal_power, sigma2))\n",
    "    # Generate complex noise with given variance\n",
    "    noise = np.sqrt(sigma2/2) * (np.random.randn(*convolved.shape)+1j*np.random.randn(*convolved.shape))\n",
    "    return convolved + noise\n",
    "\n",
    "\n",
    "def channelEstimate(OFDM_demod, allCarriers, pilotCarriers, pilotValue):\n",
    "    '''\n",
    "    Perform interpolation between the pilot carriers to get an estimate\n",
    "    of the channel in the data carriers. Here, we interpolate absolute value and phase\n",
    "    separately\n",
    "    '''\n",
    "    pilots = OFDM_demod[pilotCarriers]      # extract the pilot values from the RX signal\n",
    "    Hest_at_pilots = pilots / pilotValue    # divide by the transmitted pilot values\n",
    "    Hest_abs = scipy.interpolate.interp1d(pilotCarriers, abs(Hest_at_pilots), kind='linear')(allCarriers)\n",
    "    Hest_phase = scipy.interpolate.interp1d(pilotCarriers, np.angle(Hest_at_pilots), kind='linear')(allCarriers)\n",
    "    Hest = Hest_abs * np.exp(1j*Hest_phase)\n",
    "    return Hest, Hest_at_pilots"
   ]
  },
  {
   "cell_type": "markdown",
   "metadata": {
    "id": "eQwF0uGv1cE3"
   },
   "source": [
    "## Main Simulation"
   ]
  },
  {
   "cell_type": "markdown",
   "metadata": {},
   "source": [
    "### Parameters setup\n",
    "First, let's define some parameters that will be using during the OFDM simulation:"
   ]
  },
  {
   "cell_type": "code",
   "execution_count": null,
   "metadata": {
    "tags": [
     "parameters"
    ]
   },
   "outputs": [],
   "source": [
    "save_fig = True # To save plot during simulation\n",
    "save_folder = Path(\"results\") # Where to save the figures"
   ]
  },
  {
   "cell_type": "markdown",
   "metadata": {},
   "source": [
    "- `K` : The number of subcarriers, describes how many subcarriers are available in the OFDM system.\n",
    "- `CP` : The length of the cyclic prefix, denotes the number of samples that are copied from the end of the modulated block to the beginning, to yield a cyclic extension of the block.\n",
    "- `P` : The number of pilots in the OFDM symbol, describes how many carriers are used to transmit known information (i.e. pilots). Pilots will be used at the receiver to estimate the wireless channel between transmitter and receiver. Further, we also define the value that each pilots transmits (which is known to the receiver).\n",
    "- `MU` : Since we simulating 64QAM transmission, we need to define $\\mu = \\log_{2} 64 = 6$ bits per symbol\n",
    "- `SNRDB` : Signal-to-Noise Ratio in dB, that should occur at the receiver."
   ]
  },
  {
   "cell_type": "code",
   "execution_count": null,
   "metadata": {},
   "outputs": [],
   "source": [
    "K = 128                                 # number of OFDM subcarriers\n",
    "CP = K // 4                             # length of the cyclic prefix: 25% of the block\n",
    "P = 8                                   # number of pilot carriers per OFDM block\n",
    "MU = 6                                  # bits per symbol (64QAM)\n",
    "SNRDB = 20                              # signal to noise-ratio in dB at the receiver\n",
    "pilotValue = 7+7j                       # the known value each pilot transmits\n",
    "allCarriers = np.arange(K)              # indices of all subcarriers ([0, 1, ... K-1])\n",
    "pilotCarriers = allCarriers[::K//P]     # pilots is every (K/P)th carrier.\n",
    "\n",
    "# For convenience of channel estimation, the last carrier is also be a pilot\n",
    "pilotCarriers = np.hstack([pilotCarriers, np.array([allCarriers[-1]])])\n",
    "P = P+1\n",
    "\n",
    "# data carriers are all remaining carriers\n",
    "dataCarriers = np.delete(allCarriers, pilotCarriers)\n",
    "\n",
    "# print (\"allCarriers:\\n\", allCarriers)\n",
    "# print (\"pilotCarriers:\\n\", pilotCarriers)\n",
    "# print (\"dataCarriers:\\n\", dataCarriers)\n",
    "\n",
    "plt.figure(figsize=(15,2))\n",
    "plt.xlim((-1, K))\n",
    "plt.ylim((-1, 1))\n",
    "plt.xlabel('Carrier index')\n",
    "plt.yticks([])\n",
    "plt.xticks(pilotCarriers)\n",
    "plt.grid(True)\n",
    "plt.plot(pilotCarriers, np.zeros_like(pilotCarriers), 'bo', label='pilot')\n",
    "plt.plot(dataCarriers, np.zeros_like(dataCarriers), 'ro', label='data')\n",
    "plt.legend(fontsize=10, ncol=2)\n",
    "\n",
    "if save_fig : plt.savefig(save_folder/\"carrier_index.pdf\", bbox_inches='tight')\n",
    "plt.show()"
   ]
  },
  {
   "cell_type": "markdown",
   "metadata": {},
   "source": [
    "Now we define a `mapping_table` that map from groups of 6 bits to a 64QAM constellation symbol"
   ]
  },
  {
   "cell_type": "code",
   "execution_count": null,
   "metadata": {},
   "outputs": [],
   "source": [
    "mapping_table = {\n",
    "    (0,0,0,0,0,0) : -7-7j,\n",
    "    (0,0,0,0,0,1) : -7-5j,\n",
    "    (0,0,0,0,1,1) : -7-3j,\n",
    "    (0,0,0,0,1,0) : -7-1j,\n",
    "    (0,0,0,1,1,0) : -7+1j,\n",
    "    (0,0,0,1,1,1) : -7+3j,\n",
    "    (0,0,0,1,0,1) : -7+5j,\n",
    "    (0,0,0,1,0,0) : -7+7j,\n",
    "    (0,0,1,1,0,0) : -5+7j,\n",
    "    (0,0,1,1,0,1) : -5+5j,\n",
    "    (0,0,1,1,1,1) : -5+3j,\n",
    "    (0,0,1,1,1,0) : -5+1j,\n",
    "    (0,0,1,0,1,0) : -5-1j,\n",
    "    (0,0,1,0,1,1) : -5-3j,\n",
    "    (0,0,1,0,0,1) : -5-5j,\n",
    "    (0,0,1,0,0,0) : -5-7j,\n",
    "    (0,1,1,0,0,0) : -3-7j,\n",
    "    (0,1,1,0,0,1) : -3-5j,\n",
    "    (0,1,1,0,1,1) : -3-3j,\n",
    "    (0,1,1,0,1,0) : -3-1j,\n",
    "    (0,1,1,1,1,0) : -3+1j,\n",
    "    (0,1,1,1,1,1) : -3+3j,\n",
    "    (0,1,1,1,0,1) : -3+5j,\n",
    "    (0,1,1,1,0,0) : -3+7j,\n",
    "    (0,1,0,1,0,0) : -1+7j,\n",
    "    (0,1,0,1,0,1) : -1+5j,\n",
    "    (0,1,0,1,1,1) : -1+3j,\n",
    "    (0,1,0,1,1,0) : -1+1j,\n",
    "    (0,1,0,0,1,0) : -1-1j,\n",
    "    (0,1,0,0,1,1) : -1-3j,\n",
    "    (0,1,0,0,0,1) : -1-5j,\n",
    "    (0,1,0,0,0,0) : -1-7j,\n",
    "    (1,1,0,0,0,0) :  1-7j,\n",
    "    (1,1,0,0,0,1) :  1-5j,\n",
    "    (1,1,0,0,1,1) :  1-3j,\n",
    "    (1,1,0,0,1,0) :  1-1j,\n",
    "    (1,1,0,1,1,0) :  1+1j,\n",
    "    (1,1,0,1,1,1) :  1+3j,\n",
    "    (1,1,0,1,0,1) :  1+5j,\n",
    "    (1,1,0,1,0,0) :  1+7j,\n",
    "    (1,1,1,1,0,0) :  3+7j,\n",
    "    (1,1,1,1,0,1) :  3+5j,\n",
    "    (1,1,1,1,1,1) :  3+3j,\n",
    "    (1,1,1,1,1,0) :  3+1j,\n",
    "    (1,1,1,0,1,0) :  3-1j,\n",
    "    (1,1,1,0,1,1) :  3-3j,\n",
    "    (1,1,1,0,0,1) :  3-5j,\n",
    "    (1,1,1,0,0,0) :  3-7j,\n",
    "    (1,0,1,0,0,0) :  5-7j,\n",
    "    (1,0,1,0,0,1) :  5-5j,\n",
    "    (1,0,1,0,1,1) :  5-3j,\n",
    "    (1,0,1,0,1,0) :  5-1j,\n",
    "    (1,0,1,1,1,0) :  5+1j,\n",
    "    (1,0,1,1,1,1) :  5+3j,\n",
    "    (1,0,1,1,0,1) :  5+5j,\n",
    "    (1,0,1,1,0,0) :  5+7j,\n",
    "    (1,0,0,1,0,0) :  7+7j,\n",
    "    (1,0,0,1,0,1) :  7+5j,\n",
    "    (1,0,0,1,1,1) :  7+3j,\n",
    "    (1,0,0,1,1,0) :  7+1j,\n",
    "    (1,0,0,0,1,0) :  7-1j,\n",
    "    (1,0,0,0,1,1) :  7-3j,\n",
    "    (1,0,0,0,0,1) :  7-5j,\n",
    "    (1,0,0,0,0,0) :  7-7j,\n",
    "}\n",
    "for d5 in [0,1]:\n",
    "    for d4 in [0,1]:\n",
    "        for d3 in [0,1]:\n",
    "            for d2 in [0,1]:\n",
    "                for d1 in [0,1]:\n",
    "                    for d0 in [0,1]:\n",
    "                        D = (d5,d4,d3,d2,d1,d0)\n",
    "                        Q = mapping_table[D]\n",
    "                        plt.plot(Q.real,Q.imag, 'bo')\n",
    "                        plt.text(Q.real,Q.imag+0.5, \"\".join(str(x) for x in D), ha = 'center')\n",
    "\n",
    "plt.grid(True)\n",
    "plt.xticks(range(-7,8,2))\n",
    "plt.yticks(range(-7,8,2))\n",
    "plt.xlim((-8, 8))\n",
    "plt.ylim((-8,8))\n",
    "plt.xlabel('Real part (I)')\n",
    "plt.ylabel('Imaginary part (Q)')\n",
    "if save_fig : plt.savefig(save_folder/\"mapping.pdf\", bbox_inches='tight')\n",
    "plt.title(\"Mapping Table 6 symbol\")\n",
    "plt.show()"
   ]
  },
  {
   "cell_type": "markdown",
   "metadata": {},
   "source": [
    "Above, we have plotted the 16QAM constellation, along with the bit-labels. Note the Gray-mapping, i.e. two adjacent constellation symbols differ only by one bit and the other 3 bits remain the same. This technique helps to minimize bit-errors, in case a wrong constellation symbol is detected: Most probably, symbol errors are \"off-by-one\" errors, i.e. a symbol next to the correct symbol is detected. Then, only a single bit-error occurs.\n",
    "\n",
    "The demapping table is simply the inverse mapping of the mapping table:"
   ]
  },
  {
   "cell_type": "code",
   "execution_count": null,
   "metadata": {},
   "outputs": [],
   "source": [
    "demapping_table = {v : k for k, v in mapping_table.items()}"
   ]
  },
  {
   "cell_type": "markdown",
   "metadata": {},
   "source": [
    "Let us now define the wireless channel between transmitter and receiver. Here, we use a two-tap multipath channel with given impulse response `channelResponse`. Also, we plot the corresponding frequency response. As we see, the channel is frequency-selective."
   ]
  },
  {
   "cell_type": "code",
   "execution_count": null,
   "metadata": {},
   "outputs": [],
   "source": [
    "channelResponse = np.array([1, 0, 0.1+0.1j]) # the impulse response of the wireless channel\n",
    "H_exact = np.fft.fft(channelResponse, K)\n",
    "plt.plot(allCarriers, abs(H_exact))\n",
    "plt.xlabel('Subcarrier index')\n",
    "plt.ylabel('$|H(f)|$')\n",
    "plt.xlim(0, K-1)\n",
    "plt.grid(True)\n",
    "if save_fig : plt.savefig(save_folder/\"oneframe.pdf\", bbox_inches='tight')\n",
    "plt.show()"
   ]
  },
  {
   "cell_type": "markdown",
   "metadata": {
    "id": "IB3jO8oq3Olx"
   },
   "source": [
    "### Transmitter Part\n",
    "Now, that we have defined the necessary parameters for the OFDM system, we need some data for testing. Here we using a 3 channel image that can either load from a file or from an url"
   ]
  },
  {
   "cell_type": "code",
   "execution_count": null,
   "metadata": {},
   "outputs": [],
   "source": [
    "# Read Image from file\n",
    "img = plt.imread(\"images/test.bmp\")\n",
    "\n",
    "# Read Image from URL\n",
    "# img = url2img(\"https://sc04.alicdn.com/kf/Uc21f8e3d737e4cad81d95974852e0959I.jpg\", RGB=True)\n",
    "\n",
    "# Resize to reduce compute time\n",
    "img = resize_image(img, 256) # neither side exceed 256 pixels \n",
    "\n",
    "print(\"width, height, channel = \", img.shape)\n",
    "\n",
    "plt.imshow(img)\n",
    "if save_fig : plt.savefig(save_folder/\"input.pdf\", bbox_inches='tight')\n",
    "plt.show()"
   ]
  },
  {
   "cell_type": "markdown",
   "metadata": {},
   "source": [
    "After that, we get all the pixels value (from 3 channel) of the image and lay them in a 1D array. This array is gonna have a size of `width x height x channel`"
   ]
  },
  {
   "cell_type": "code",
   "execution_count": null,
   "metadata": {},
   "outputs": [],
   "source": [
    "pixels = img.reshape(img.shape[0]*img.shape[1]*img.shape[2])\n",
    "print(pixels.size)"
   ]
  },
  {
   "cell_type": "markdown",
   "metadata": {},
   "source": [
    "The pixels value is in decimal, we need to convert it into binary"
   ]
  },
  {
   "cell_type": "code",
   "execution_count": null,
   "metadata": {
    "id": "QTJDZ6D31wDx"
   },
   "outputs": [],
   "source": [
    "img_bytes = [format(pixel, \"08b\") for pixel in pixels]"
   ]
  },
  {
   "cell_type": "markdown",
   "metadata": {},
   "source": [
    "Subsequently, we add the CRC (Cyclic redundancy check) to the end of each byte.\n",
    "Basically, the CRC generator at the transmitter consists of 4 steps:\n",
    "1. Find the length of the devisor `L`\n",
    "2. Append `L-1` bits to the original byte\n",
    "3. Perform binary division operation to get `quotient` and `remainder`\n",
    "4. Remainder of the division = `CRC`\n",
    "\n",
    "| A | B | A XOR B|\n",
    "|-|-|-|\n",
    "|0|0|0|\n",
    "|0|1|1|\n",
    "|1|0|1|\n",
    "|1|1|0|\n",
    "\n",
    "Here we choose the `key` value of `\"1101\"`"
   ]
  },
  {
   "cell_type": "code",
   "execution_count": null,
   "metadata": {},
   "outputs": [],
   "source": [
    "key = \"1101\"\n",
    "img_en = [encodeData(i, key) for i in img_bytes]\n",
    "print(img_bytes[1])\n",
    "print(img_en[1])"
   ]
  },
  {
   "cell_type": "code",
   "execution_count": null,
   "metadata": {},
   "outputs": [],
   "source": [
    "img_bits = [split(i) for i in np.array(img_en)]\n",
    "img_bits = np.vstack(img_bits)\n",
    "# img_ready_for_trans\n",
    "img_bits_tx = np.array([int(i[j]) for i in img_bits for j in range(11)])"
   ]
  },
  {
   "cell_type": "markdown",
   "metadata": {},
   "source": [
    "We group the bits into a group of `payloadBits_per_OFDM`, which in this case, equals 714"
   ]
  },
  {
   "cell_type": "code",
   "execution_count": null,
   "metadata": {
    "colab": {
     "base_uri": "https://localhost:8080/",
     "height": 282
    },
    "id": "62gaOYQg3cDC",
    "outputId": "18d3d19f-20ad-4c2a-b02e-895be155cc90"
   },
   "outputs": [],
   "source": [
    "payloadBits_per_OFDM = len(dataCarriers)*MU # number of payload bits per OFDM symbol\n",
    "bits_groups = group_bits_zero_pad(img_bits_tx, payloadBits_per_OFDM)"
   ]
  },
  {
   "cell_type": "markdown",
   "metadata": {},
   "source": [
    "For demonstration, in this part we sent only one frame, specifically, the first frame."
   ]
  },
  {
   "cell_type": "code",
   "execution_count": null,
   "metadata": {},
   "outputs": [],
   "source": [
    "bits = np.array(bits_groups[0]) # we select first frame to send"
   ]
  },
  {
   "cell_type": "markdown",
   "metadata": {},
   "source": [
    "The `bits` are now sent to a serial-to-parallel converter, which groups the bits for the OFDM frame into a groups of $\\mu$ bits (i.e. one group for each subcarrier):"
   ]
  },
  {
   "cell_type": "code",
   "execution_count": null,
   "metadata": {
    "colab": {
     "base_uri": "https://localhost:8080/"
    },
    "id": "COfNbRFb6KLv",
    "outputId": "a81cc911-c6b8-41ea-d4a7-564e070d2683"
   },
   "outputs": [],
   "source": [
    "bits_parallel = S2P(bits, len(dataCarriers), MU) # Serial to Parallel\n",
    "print (\"First 5 bit groups:\")\n",
    "print (bits_parallel[:5,:])"
   ]
  },
  {
   "cell_type": "markdown",
   "metadata": {},
   "source": [
    "Now, the `bits_parallel` are sent to the mapper. The mapper converts the groups into complex-valued constellation symbols according to the `mapping_table`."
   ]
  },
  {
   "cell_type": "code",
   "execution_count": null,
   "metadata": {
    "colab": {
     "base_uri": "https://localhost:8080/"
    },
    "id": "kj19rK1B6OWl",
    "outputId": "2b3739c2-34af-4a6d-c13f-9dcc411b7cd6"
   },
   "outputs": [],
   "source": [
    "QAM = Mapping(bits_parallel, mapping_table)\n",
    "print (\"First 5 QAM symbols:\")\n",
    "print (QAM[:5])"
   ]
  },
  {
   "cell_type": "markdown",
   "metadata": {},
   "source": [
    "The next step (which isn't shown in the diagram) is the allocation of different subcarriers with data and pilots. For each subcarrier we have defined wether it carries data or a pilot by the arrays `dataCarriers` and `pilotCarriers`. Now, to create the overall OFDM data, we need to put the data and pilots into the OFDM carriers.\n",
    "\n",
    "Next, the OFDM carriers contained in `OFDM_data` can be transformed to the time-domain by means of the `IFFT` operation. "
   ]
  },
  {
   "cell_type": "code",
   "execution_count": null,
   "metadata": {
    "colab": {
     "base_uri": "https://localhost:8080/"
    },
    "id": "8nboFmvz6QLt",
    "outputId": "fbeaa4f2-b1d4-47be-97fe-43c7d713b444"
   },
   "outputs": [],
   "source": [
    "OFDM_data = OFDM_symbol(QAM, K, dataCarriers, pilotCarriers, pilotValue)\n",
    "OFDM_time = IFFT(OFDM_data)"
   ]
  },
  {
   "cell_type": "code",
   "execution_count": null,
   "metadata": {},
   "outputs": [],
   "source": [
    "N = 400 # Number of sample points\n",
    "T = 1 / 0.32e12 # sample spacing\n",
    "t = np.linspace(0.0, N*T, N)\n",
    "fd = 0\n",
    "fc = 24e9\n",
    "\n",
    "sin_time = []\n",
    "for i in OFDM_time:\n",
    "    sin_time.append(abs(i)*np.sin(((2*np.pi)*(fc+fd)*t) + math.atan(i.imag/i.real)))\n",
    "    fd += 1e9\n",
    "    \n",
    "s = np.zeros(len(t), dtype = float)\n",
    "for j in range(len(t)):\n",
    "    for i in sin_time:\n",
    "        s[j] += i[j]\n",
    "        \n",
    "# Time-domain\n",
    "plt.plot(t,s)\n",
    "plt.grid(True)\n",
    "plt.xlabel(\"Time(s)\")\n",
    "plt.ylabel(\"Amplitude(V)\")\n",
    "if save_fig: plt.savefig(save_folder/\"time_domain_1.pdf\", bbox_inches='tight')\n",
    "plt.title(\"OFDM in time-domain\")\n",
    "plt.show()\n",
    "\n",
    "# Frequency-domain\n",
    "for i in range(len(sin_time)):\n",
    "    yf = scipy.fftpack.fft(sin_time[i])\n",
    "    xf = np.linspace(0.0, 1.0/(2.0*T), int(N/2))\n",
    "    plt.plot(xf, 2.0/N * np.abs(yf[:N//2]))\n",
    "plt.grid(True)\n",
    "plt.ylabel(\"|H(f)|\")\n",
    "plt.xlabel(\"Frequency(Hz)\")\n",
    "if save_fig: plt.savefig(save_folder/\"freq_domain_1.pdf\", bbox_inches='tight')\n",
    "plt.title(\"OFDM in frequency-domain\")\n",
    "plt.show()\n",
    "\n",
    "# for i in range(1,3):\n",
    "#     plt.plot(t, sin_time[i])\n",
    "#     plt.grid(True)\n",
    "# if save_fig: plt.savefig(save_folder/\"time_domain_2.pdf\", bbox_inches='tight')\n",
    "# plt.show()\n",
    "\n",
    "# # Look closely in 2 frequncies spiked\n",
    "# # Number of sample points\n",
    "# sin_time_x = []\n",
    "# G = 75 #N\n",
    "# # sample spacing\n",
    "# M = 1 / 0.0580e12 #T\n",
    "# O = np.linspace(0.0, G*M, G) #t\n",
    "# fd = 0\n",
    "# fc = 24e9\n",
    "# s = np.zeros(len(O), dtype = float)\n",
    "# for i in OFDM_time_V:\n",
    "#     sin_time_x.append(abs(i)*np.sin(((2*np.pi)*(fc+fd)*O) + math.atan(i.imag/i.real)))\n",
    "#     fd += 1e9\n",
    "# for i in range(len(sin_time[0:2])):\n",
    "#     yf = scipy.fftpack.fft(sin_time[i])\n",
    "#     xf = np.linspace(0.0, 1.0/(2.0*M), int(G/2))\n",
    "#     plt.plot(xf, 2.0/G * np.abs(yf[:G//2]))\n",
    "# plt.grid(True)\n",
    "# plt.title(\"OFDM in frequency-domain\")\n",
    "# plt.ylabel(\"|H(f)|\")\n",
    "# plt.xlabel(\"Frequency(Hz)\")\n",
    "# if save_fig: plt.savefig(save_folder/\"freq_domain_2.pdf\", bbox_inches='tight')\n",
    "# plt.show()"
   ]
  },
  {
   "cell_type": "markdown",
   "metadata": {},
   "source": [
    "Subsequently, we add a cyclic prefix to the symbol. This operation concatenates a copy of the last `CP` samples of the OFDM time domain signal to the beginning. This way, a cyclic extension is achieved. The CP fulfills two tasks:\n",
    "\n",
    "1. It isolates different OFDM blocks from each other when the wireless channel contains multiple paths, i.e. is frequency-selective.\n",
    "2. It turns the linear convolution with the channel into a circular one. Only with a circular convolution, we can use the single-tap equalization OFDM is so famous for."
   ]
  },
  {
   "cell_type": "code",
   "execution_count": null,
   "metadata": {},
   "outputs": [],
   "source": [
    "OFDM_TX = addCP(OFDM_time, CP)\n",
    "\n",
    "print(\"Number of OFDM carriers in frequency domain:     \", len(OFDM_data))\n",
    "print(\"Number of OFDM samples in time-domain before CP: \", len(OFDM_time))\n",
    "print(\"Number of OFDM samples in time domain with CP:   \", len(OFDM_TX))"
   ]
  },
  {
   "cell_type": "markdown",
   "metadata": {},
   "source": [
    "Now, the signal is sent to the antenna and sent over the air to the receiver. In between both antennas, there is the wireless channel. We model this channel as a static multipath channel with impulse response `channelResponse`. Hence, the signal at the receive antenna is the convolution of the transmit signal with the channel response. Additionally, we add some noise to the signal according to the value of `SNRBD`"
   ]
  },
  {
   "cell_type": "code",
   "execution_count": null,
   "metadata": {
    "colab": {
     "base_uri": "https://localhost:8080/",
     "height": 189
    },
    "id": "6Ohly8kx6UX6",
    "outputId": "b6ba87ef-7f9d-4ba1-b694-4e5a6664489e"
   },
   "outputs": [],
   "source": [
    "OFDM_RX = channel(OFDM_TX, channelResponse, SNRDB)\n",
    "\n",
    "plt.figure(figsize=(8,2))\n",
    "plt.plot(abs(OFDM_TX), label='TX signal')\n",
    "plt.plot(abs(OFDM_RX), label='RX signal')\n",
    "plt.legend(fontsize=10)\n",
    "plt.xlabel(\"Time\") \n",
    "plt.ylabel(\"|x(t)|\")\n",
    "plt.grid(True)\n",
    "if save_fig : plt.savefig(save_folder/\"tx_rx.pdf\", bbox_inches='tight')\n",
    "plt.show()"
   ]
  },
  {
   "cell_type": "markdown",
   "metadata": {},
   "source": [
    "### Receiver Part\n",
    "At receiver part, the `CP` is removed from the signal and a window of `K` samples is extracted from the received signal.\n",
    "\n",
    "Afterwards, the signal is transformed back to the frequency domain, in order to have the received value on each subcarrier available.\n",
    "\n",
    "As the next step, the wireless channel needs to be estimated. For illustration purposes, we resort to a simple zero-forcing channel estimation followed by a simple interpolation. The principle of channel estimation is as follows:\n",
    "\n",
    "The transmit signal contains pilot values at certain pilot carriers. These pilot values and their position in the frequency domain (i.e. the pilot carrier index) are known to the receiver. From the received information at the pilot subcarriers, the receiver can estimate the effect of the wireless channel onto this subcarrier (because it knows what was transmitted and what was received). Hence, the receiver gains information about the wireless channel at the pilot carriers. However, it wants to know what happened at the data carriers. To achieve this, it interpolates the channel values between the pilot carriers to get an estimate of the channel in the data carriers."
   ]
  },
  {
   "cell_type": "code",
   "execution_count": null,
   "metadata": {
    "colab": {
     "base_uri": "https://localhost:8080/",
     "height": 354
    },
    "id": "Iht2XxHG6dJK",
    "outputId": "5994f78e-74dd-4d75-a4e1-4389b247b0cb"
   },
   "outputs": [],
   "source": [
    "\n",
    "OFDM_RX_noCP = removeCP(OFDM_RX, CP, K)\n",
    "OFDM_demod = FFT(OFDM_RX_noCP)\n",
    "Hest, Hest_at_pilots = channelEstimate(OFDM_demod, allCarriers, pilotCarriers, pilotValue)\n",
    "\n",
    "plt.plot(allCarriers, abs(H_exact), label='Correct Channel')\n",
    "plt.stem(pilotCarriers, abs(Hest_at_pilots), label='Pilot estimates')\n",
    "plt.plot(allCarriers, abs(Hest), label='Estimated channel via interpolation')\n",
    "plt.grid(True)\n",
    "plt.xlabel('Carrier index')\n",
    "plt.ylabel('$|H(f)|$')\n",
    "plt.legend(fontsize=10)\n",
    "plt.ylim(0,2)\n",
    "if save_fig : plt.savefig(save_folder/\"channel_estimation.pdf\", bbox_inches='tight')\n",
    "plt.show()"
   ]
  },
  {
   "cell_type": "markdown",
   "metadata": {},
   "source": [
    "Now that the channel is estimated at all carriers, we can use this information in the channel equalizer step. Here, for each subcarrier, the influence of the channel is removed such that we get the clear (only noisy) constellation symbols back.\n",
    "\n",
    "The next step (not shown in the diagram) is to extract the data carriers from the equalized symbol. Here, we throw away the pilot carriers, as they do not provide any information, but were used for the channel estimation process."
   ]
  },
  {
   "cell_type": "code",
   "execution_count": null,
   "metadata": {},
   "outputs": [],
   "source": [
    "equalized_Hest = equalize(OFDM_demod, Hest)\n",
    "QAM_est = get_payload(equalized_Hest, dataCarriers)\n",
    "plt.plot(QAM_est.real, QAM_est.imag, 'bo', scalex = True, scaley = True)\n",
    "plt.grid(True)\n",
    "plt.xlabel('Real part')\n",
    "plt.ylabel('Imaginary Part')\n",
    "if save_fig : plt.savefig(save_folder/\"data_carriers.pdf\", bbox_inches='tight')\n",
    "plt.title(\"Received constellation\")\n",
    "plt.show()"
   ]
  },
  {
   "cell_type": "markdown",
   "metadata": {},
   "source": [
    "Now, that the constellation is obtained back, we need to send the complex values to the demapper, to transform the constellation points to the bit groups. In order to do this, we compare each received constellation point against each possible constellation point and choose the constellation point which is closest to the received point. Then, we return the bit-group that belongs to this point."
   ]
  },
  {
   "cell_type": "code",
   "execution_count": null,
   "metadata": {
    "colab": {
     "base_uri": "https://localhost:8080/",
     "height": 265
    },
    "id": "sPtaOJEx6zNa",
    "outputId": "57373d07-3339-4e7e-ce9b-c9cabc824d9a"
   },
   "outputs": [],
   "source": [
    "PS_est, hardDecision = Demapping(QAM_est, demapping_table)\n",
    "for qam, hard in zip(QAM_est, hardDecision):\n",
    "    plt.plot([qam.real, hard.real], [qam.imag, hard.imag], 'b-o')\n",
    "    plt.plot(hardDecision.real, hardDecision.imag, 'ro')\n",
    "plt.grid(True)\n",
    "plt.xlabel('Real part')\n",
    "plt.ylabel('Imaginary part')\n",
    "if save_fig : plt.savefig(save_folder/\"demapping.pdf\", bbox_inches='tight')\n",
    "plt.title('Hard Decision demapping')\n",
    "plt.show()"
   ]
  },
  {
   "cell_type": "markdown",
   "metadata": {},
   "source": [
    "In the diagram above, the blue points are the received QAM points, where as the the red points connected to them are the closest possible constellation points, and the bit groups corresponding to these red points are returned. \n",
    "\n",
    "Then, the bit groups need to be converted to a serial stream of bits, by means of parallel to serial conversion.\n",
    "\n",
    "Finally, we can calculate the bit error rate"
   ]
  },
  {
   "cell_type": "code",
   "execution_count": null,
   "metadata": {
    "colab": {
     "base_uri": "https://localhost:8080/"
    },
    "id": "Nied-co063Se",
    "outputId": "67f0ff03-262f-4917-b0ea-0a403a521d36"
   },
   "outputs": [],
   "source": [
    "bits_est = P2S(PS_est)\n",
    "ber = np.sum(abs(bits-bits_est))/len(bits)\n",
    "print (\"Obtained Bit error rate: \", ber)"
   ]
  },
  {
   "cell_type": "markdown",
   "metadata": {},
   "source": [
    "Now let send all the `bits` in `bits_groups` at once"
   ]
  },
  {
   "cell_type": "code",
   "execution_count": null,
   "metadata": {
    "colab": {
     "base_uri": "https://localhost:8080/"
    },
    "id": "jEvrMSTy7dH_",
    "outputId": "4f2cf04f-7ba9-4984-c2b9-7fb5ae1d286d"
   },
   "outputs": [],
   "source": [
    "total_ber = 0\n",
    "bit_rx = []\n",
    "for bits in bits_groups:\n",
    "    bits_parallel = S2P(bits, len(dataCarriers), MU)\n",
    "    QAM = Mapping(bits_parallel, mapping_table)\n",
    "    OFDM_data = OFDM_symbol(QAM, K, dataCarriers, pilotCarriers, pilotValue)\n",
    "    OFDM_time = IFFT(OFDM_data)\n",
    "    OFDM_TX = addCP(OFDM_time, CP)\n",
    "    OFDM_RX = channel(OFDM_TX, channelResponse, SNRDB)\n",
    "    OFDM_RX_noCP = removeCP(OFDM_RX, CP, K)\n",
    "    OFDM_demod = FFT(OFDM_RX_noCP)\n",
    "    Hest, Hest_at_pilots = channelEstimate(OFDM_demod, allCarriers, pilotCarriers, pilotValue)\n",
    "    equalized_Hest = equalize(OFDM_demod, Hest)\n",
    "    QAM_est = get_payload(equalized_Hest, dataCarriers)\n",
    "    PS_est, hardDecision = Demapping(QAM_est, demapping_table)\n",
    "    bits_est = P2S(PS_est)\n",
    "    ber = np.sum(abs(bits-bits_est))/len(bits)\n",
    "    total_ber += ber\n",
    "    bit_rx.append(bits_est)\n",
    "    \n",
    "print(\"Total BER is :\" + str(ber / ((len(img_bits_tx)//payloadBits_per_OFDM)+1)))\n",
    "print(\"All frames are sent\")"
   ]
  },
  {
   "cell_type": "code",
   "execution_count": null,
   "metadata": {},
   "outputs": [],
   "source": [
    "img_fr = [split(i) for i in np.array(bit_rx)]\n",
    "img_fr = np.vstack(img_fr)\n",
    "\n",
    "img_rfr = np.array([int(i[j]) for i in img_fr for j in range(payloadBits_per_OFDM)])\n",
    "\n",
    "img_rfr1 = np.array([img_rfr[i] for i in range(len(img_bits_tx))])\n",
    "\n",
    "img_rea = [img_rfr1[i:i+11] for i in range(0, len(img_rfr1), 11)]\n",
    "    \n",
    "img_done = [[str(j) for j in i] for i in img_rea]\n",
    "\n",
    "img_fin = [\"\".join(i) for i in img_done]"
   ]
  },
  {
   "cell_type": "markdown",
   "metadata": {},
   "source": [
    "Next we remove the redundant bits (CRC) to get the image data and calculate the error bits.\n",
    "To check if the received byte is correct, we just need to perform division of the byte and the key, and the compare the remainder with zero. If the remainder is zero, the received byte is not contain error."
   ]
  },
  {
   "cell_type": "code",
   "execution_count": null,
   "metadata": {
    "colab": {
     "base_uri": "https://localhost:8080/"
    },
    "id": "bSYZ9dsy7mU5",
    "outputId": "353f6820-b2e7-46ee-d468-a11016997f8e"
   },
   "outputs": [],
   "source": [
    "img_crc = [decodeData(i, key) for i in img_fin]\n",
    "\n",
    "print(\"Amount of total bits:    \", len(img_bits_tx))\n",
    "print(\"Amount of error bit(s):  \", count_error(img_crc))"
   ]
  },
  {
   "cell_type": "code",
   "execution_count": null,
   "metadata": {
    "id": "PySqzib575UA"
   },
   "outputs": [],
   "source": [
    "img_dec = np.array([i[0:8] for i in img_fin])"
   ]
  },
  {
   "cell_type": "code",
   "execution_count": null,
   "metadata": {
    "colab": {
     "base_uri": "https://localhost:8080/",
     "height": 517
    },
    "id": "0DDIJrvW78oo",
    "outputId": "9e12af04-130f-47ed-c513-25ceccbc2e80"
   },
   "outputs": [],
   "source": [
    "img_back = np.array([int(img_dec[i],2) for i in range(len(img_bytes))])\n",
    "img_back = img_back.reshape(img.shape[0], img.shape[1], img.shape[2])\n",
    "plt.imshow(img_back)\n",
    "output_name = \"output_\"+str(SNRDB)+\"db.pdf\"\n",
    "if save_fig: plt.savefig(save_folder/output_name, bbox_inches='tight')\n",
    "plt.show()"
   ]
  },
  {
   "cell_type": "markdown",
   "metadata": {},
   "source": [
    "### Analyzing the value of BER with SER varying from 0 to 40 db"
   ]
  },
  {
   "cell_type": "code",
   "execution_count": null,
   "metadata": {},
   "outputs": [],
   "source": [
    "SNR_Array = np.arange(0, 40, 0.05)\n",
    "bits = bits_groups[10]\n",
    "BER_Array = []\n",
    "for i in SNR_Array:\n",
    "    bits_parallel = S2P(bits, len(dataCarriers), MU)\n",
    "    QAM = Mapping(bits_parallel, mapping_table)\n",
    "    OFDM_data = OFDM_symbol(QAM, K, dataCarriers, pilotCarriers, pilotValue)\n",
    "    OFDM_time = IFFT(OFDM_data)\n",
    "    OFDM_TX = addCP(OFDM_time, CP)\n",
    "    OFDM_RX = channel(OFDM_TX, channelResponse, i)\n",
    "    OFDM_RX_noCP = removeCP(OFDM_RX, CP, K)\n",
    "    OFDM_demod = FFT(OFDM_RX_noCP)\n",
    "    Hest, Hest_at_pilots = channelEstimate(OFDM_demod, allCarriers, pilotCarriers, pilotValue)\n",
    "    equalized_Hest = equalize(OFDM_demod, Hest)\n",
    "    QAM_est = get_payload(equalized_Hest, dataCarriers)\n",
    "    PS_est, hardDecision = Demapping(QAM_est, demapping_table)\n",
    "    bits_est = P2S(PS_est)\n",
    "    ber = np.sum(abs(bits-bits_est))/len(bits)\n",
    "    BER_Array.append(ber)\n",
    "\n",
    "plt.plot(SNR_Array, BER_Array)\n",
    "plt.xlabel(\"SNR(E0/N0)\")\n",
    "plt.ylabel(\"BER(%)\")\n",
    "plt.grid(True)\n",
    "if save_fig: plt.savefig(save_folder/\"ber.pdf\", bbox_inches='tight')\n",
    "plt.show()"
   ]
  },
  {
   "cell_type": "markdown",
   "metadata": {},
   "source": [
    "Here we use `gaussian_filter1d` to smooth out the ber line"
   ]
  },
  {
   "cell_type": "code",
   "execution_count": null,
   "metadata": {
    "slideshow": {
     "slide_type": "subslide"
    }
   },
   "outputs": [],
   "source": [
    "ysmoothed = gaussian_filter1d(BER_Array, sigma=15)\n",
    "plt.plot(SNR_Array, ysmoothed, 'c')\n",
    "plt.xlabel(\"SNR(E0/N0)\")\n",
    "plt.ylabel(\"Bit error rate(%)\")\n",
    "plt.grid(True)\n",
    "if save_fig: plt.savefig(save_folder/\"ber_smoothed.pdf\", bbox_inches='tight')\n",
    "plt.show()"
   ]
  }
 ],
 "metadata": {
  "colab": {
   "collapsed_sections": [],
   "name": "64_QAM_OFDM",
   "provenance": []
  },
  "kernelspec": {
   "display_name": "Python 3 (ipykernel)",
   "language": "python",
   "name": "python3"
  },
  "language_info": {
   "codemirror_mode": {
    "name": "ipython",
    "version": 3
   },
   "file_extension": ".py",
   "mimetype": "text/x-python",
   "name": "python",
   "nbconvert_exporter": "python",
   "pygments_lexer": "ipython3",
   "version": "3.11.4"
  }
 },
 "nbformat": 4,
 "nbformat_minor": 4
}
