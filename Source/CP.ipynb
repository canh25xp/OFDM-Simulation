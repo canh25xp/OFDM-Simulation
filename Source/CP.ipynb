{
 "cells": [
  {
   "cell_type": "code",
   "execution_count": null,
   "metadata": {
    "deletable": true,
    "editable": true
   },
   "outputs": [],
   "source": [
    "import numpy as np\n",
    "import matplotlib.pyplot as plt\n",
    "import matplotlib.patches as patches\n",
    "import matplotlib\n",
    "\n",
    "from ipywidgets import interact\n",
    "import inspect\n",
    "\n",
    "from OFDM.channel import addCP, removeCP"
   ]
  },
  {
   "cell_type": "code",
   "execution_count": null,
   "metadata": {},
   "outputs": [],
   "source": [
    "# Define Figsize\n",
    "matplotlib.rcParams['figure.figsize'] = (8,3)\n",
    "matplotlib.rcParams['animation.writer'] = 'avconv'\n",
    "\n",
    "# Defind arrow style\n",
    "doubleArrow = {'arrowprops':dict(arrowstyle=\"<->\")}\n",
    "arcArrow = {'arrowprops':dict(arrowstyle='->',connectionstyle='arc3,rad=-0.2')}\n",
    "arcArrowUp = {'arrowprops':dict(arrowstyle='->',connectionstyle='arc3,rad=0.3')}\n",
    "\n",
    "# workaround function for strange interact implementation\n",
    "def showInInteract():\n",
    "    if 'interaction.py' in inspect.stack()[2][1]:\n",
    "        plt.show()"
   ]
  },
  {
   "cell_type": "markdown",
   "metadata": {
    "deletable": true,
    "editable": true
   },
   "source": [
    "# The Cyclic Prefix for OFDM\n",
    "\n",
    "In a previous post, we have elaborated about the [building blocks of OFDM](http://dspillustrations.com/pages/posts/misc/python-ofdm-example.html).\n",
    "\n",
    "There, we have stated two benefits of using a cyclic prefix between subsequent OFDM symbols:\n",
    "\n",
    "- The CP isolates different OFDM blocks from each other when the wireless channel contains multiple paths, i.e. is frequency-selective.\n",
    "- The CP turns the linear convolution with the channel into a [circular convolution](http://dspillustrations.com/pages/posts/misc/circular-convolution-example.html). Only with a circular convolution, we can use the single-tap equalization OFDM is so famous for.\n",
    "\n",
    "In the following, we will elaborate on these two aspects. First, let us define some parameters for our OFDM system:"
   ]
  },
  {
   "cell_type": "code",
   "execution_count": null,
   "metadata": {
    "deletable": true,
    "editable": true
   },
   "outputs": [],
   "source": [
    "K = 128     # OFDM block length (i.e. subcarrier count)\n",
    "N = 32      # Length of OFDM CP\n",
    "\n",
    "ofdm1 = np.arange(K)                      # generate some arbitrary signal for one OFDM block\n",
    "ofdm2 = 2*K + np.arange(K)                # generate some arbitrary signal for another OFDM block\n",
    "symb1 = addCP(ofdm1, N)\n",
    "symb2 = addCP(ofdm2, N)\n",
    "\n",
    "# concatenate both blocks into a single signal\n",
    "signal = np.hstack([symb1, symb2])\n",
    "t = np.arange(len(signal)) - K - N - N"
   ]
  },
  {
   "cell_type": "markdown",
   "metadata": {
    "deletable": true,
    "editable": true
   },
   "source": [
    "As we see, the CP of an OFDM symbol is obtained by prepending a copy of the last $N_{CP}$ samples from the end of the OFDM signal to its beginning. This way we obtain a circular signal structure, i.e. the first $N_{CP}$ and last $N_{CP}$ samples are equal in each OFDM symbol."
   ]
  },
  {
   "cell_type": "markdown",
   "metadata": {
    "deletable": true,
    "editable": true
   },
   "source": [
    "Let us have a more detailed look at the OFDM signal structure:"
   ]
  },
  {
   "cell_type": "code",
   "execution_count": null,
   "metadata": {
    "deletable": true,
    "editable": true
   },
   "outputs": [],
   "source": [
    "def showOFDMStructure(t, sig, withTicks=True):\n",
    "    H = 20\n",
    "    I = np.tile(sig.reshape(1,-1), (H, 1))\n",
    "    y = np.arange(H)\n",
    "    plt.pcolormesh(t, y, I)\n",
    "    plt.axis('equal')\n",
    "    plt.gca().get_yaxis().set_visible(False)\n",
    "    plt.gca().patch.set_visible(False)\n",
    "    if withTicks:\n",
    "        plt.xticks([-K-2*N, -K-N, -N, 0, K])\n",
    "        # plt.gca().set_xticklabels([-K-2*N, -K-N, -N, 0, N])\n",
    "        plt.gca().set_xticklabels(['$-K-2N$', '$-K-N$', '$-N$', '$0$', '$N$'])\n",
    "    else:\n",
    "        plt.gca().get_xaxis().set_visible(False)"
   ]
  },
  {
   "cell_type": "code",
   "execution_count": null,
   "metadata": {
    "deletable": true,
    "editable": true
   },
   "outputs": [],
   "source": [
    "showOFDMStructure(t, signal)\n",
    "\n",
    "plt.annotate(text=\"\",xytext=(-N,25),        xy=(0,25), **doubleArrow);      plt.text(-N/2, 30, '$N$', va='bottom', ha='center')\n",
    "plt.annotate(text=\"\",xytext=(-K-2*N,25),    xy=(-K-N,25), **doubleArrow);   plt.text(-K-N-N/2, 30, '$N$', va='bottom', ha='center')\n",
    "plt.annotate(text=\"\",xytext=(-K-N,25),      xy=(-N,25), **doubleArrow);     plt.text(-N-K/2, 30, '$K$ (FFT window)', va='bottom', ha='center')\n",
    "plt.annotate(text=\"\",xytext=(-0,25),        xy=(K,25), **doubleArrow);      plt.text(K/2, 30, '$K$ (FFT window)', va='bottom', ha='center')\n",
    "plt.annotate(text=\"\",xytext=(-N,45),        xy=(K,45), **doubleArrow);      plt.text((K-N)/2, 50, 'OFDM symbol 1', ha='center', va='bottom')\n",
    "plt.annotate(text=\"\",xytext=(-K-2*N,45),    xy=(-N,45), **doubleArrow);     plt.text(-K-N+(K-N)/2, 50, 'OFDM symbol 0', ha='center', va='bottom')\n",
    "plt.annotate(text=\"\",xytext=(K-N/2, -5),    xy=(-N/2,-5), **arcArrow);      plt.text((K-N)/2, -20, 'Cyclic Prefix', va='top', ha='center')\n",
    "plt.annotate(text=\"\",xytext=(-N-N/2, -5),   xy=(-K-N-N/2,-5), **arcArrow);  plt.text((K-N)/2-K-N, -20, 'Cyclic Prefix', va='top', ha='center')\n",
    "plt.show()"
   ]
  },
  {
   "cell_type": "markdown",
   "metadata": {
    "deletable": true,
    "editable": true
   },
   "source": [
    "In the above figure, we see two subsequent OFDM symbols, each having a dedicated CP. The colors encode the signal value. The cyclic prefix at the beginning of each OFDM symbol shows a copy of the color of end of the OFDM symbol. When the signal is demodulated, the N-point FFT is taken at the position after the CP, which is indicated with *FFT window*. \n",
    "\n",
    "Now, let us consider, what happens when this signal $x[n]$ is sent over a linear time-invariant (LTI) multipath channel. We know, in the discrete domain, we can model this channel with its impulse response $h[n]$. Let us choose an exponentially decaying impulse response and truncate it after $L=20$ samples."
   ]
  },
  {
   "cell_type": "code",
   "execution_count": null,
   "metadata": {
    "deletable": true,
    "editable": true
   },
   "outputs": [],
   "source": [
    "L = 20\n",
    "h = lambda t: (t >= 0) * (t <= L) * np.exp(-0.2*t)\n",
    "plt.stem(t, h(t))\n",
    "plt.xlim((-5, L+5))\n",
    "plt.grid(True)\n",
    "plt.xlabel('$t$'); plt.ylabel('$h(t)$')\n",
    "plt.title('Channel Impulse Response $h(t)$')\n",
    "plt.show()"
   ]
  },
  {
   "cell_type": "markdown",
   "metadata": {
    "deletable": true,
    "editable": true
   },
   "source": [
    "## 1) The Cyclic Prefix inhibits inter-symbol interference (ISI) between adjacent OFDM symbols\n",
    "Then, the signal at the receiver $y[n]$ (ignoring the noise) is given by the (linear) convolution of the transmitted signal with the channel impulse response, i.e.\n",
    "\n",
    "$$y[n] = h[n]*x[n].$$\n",
    "\n",
    "More explicitely we can write the convolution as a sum\n",
    "\n",
    "$$y[n] = \\sum_{n'=-\\infty}^{\\infty} h[n']\\cdot x[n-n'].$$\n",
    "\n",
    "Now, since we know that $h[n]\\neq0$ only for $n=0,\\dots,L-1$, we can also write this a\n",
    "$$y[n] = \\sum_{n'=0}^{L-1}h[n']\\cdot x[n-n'].$$\n",
    "This means, the output signal $y[n]$ at time $n$ depends only on the previous $L$ samples of the transmit signal. Let us illustrate this with the following figure. We see how the channel impulse response is sliding over the transmit signal and we also see that the output of the convolution at time $n_0$ only depends on the last $L$ samples. "
   ]
  },
  {
   "cell_type": "code",
   "execution_count": null,
   "metadata": {
    "deletable": true,
    "editable": true
   },
   "outputs": [],
   "source": [
    "def showNoISIBetweenBlocks(n0):\n",
    "    plt.gcf().clear()\n",
    "    showOFDMStructure(t, signal)\n",
    "    plt.plot(t, 20*h(n0-t), 'k', lw=2)\n",
    "    plt.annotate(xytext=(n0,25), xy=(n0-L,25), text=\"\", **doubleArrow)\n",
    "    plt.axvline(n0)\n",
    "    plt.text(n0+2,50,'$n_0$', ha='left', fontsize=14)\n",
    "    plt.text(n0-L+L/2, 30, 'Convolution window', ha='center', va='bottom')\n",
    "    plt.text(-K-N, 40, '$n_0=$%d' % n0, bbox=dict(facecolor='white'))\n",
    "    plt.annotate(xytext=(0,-5), xy=(K-1,-5), text=\"\", **doubleArrow)\n",
    "    plt.text(K/2, -10, '$K$ (FFT window)', va='top', ha='center')\n",
    "    plt.show()"
   ]
  },
  {
   "cell_type": "markdown",
   "metadata": {
    "deletable": true,
    "editable": true
   },
   "source": [
    "We can see the following: As soon as the convolution output at $n_0$ enters the FFT window, the convolution window is entirely located on the cyclic prefix. This means, that no interference from the previous OFDM symbol is smeared into the currently received OFDM symbol. Hence, there is no inter-symbol interference between adjacent OFDM symbols. Instead, the convolution output within the FFT window only depends on the signal of the current OFDM symbol, because the CP contains an exact copy of the end of the OFDM symbol. \n",
    "\n",
    "Naturally, this technique only works, if the channel impulse response is shorter than the cyclic prefix. If the CP is not long enough, it cannot completely mitigate ISI and the detection performance will become worse. "
   ]
  },
  {
   "cell_type": "code",
   "execution_count": null,
   "metadata": {
    "deletable": true,
    "editable": true
   },
   "outputs": [],
   "source": [
    "interact(showNoISIBetweenBlocks, n0=(-50, 50));"
   ]
  },
  {
   "cell_type": "markdown",
   "metadata": {
    "deletable": true,
    "editable": true
   },
   "source": [
    "## 2) The Cyclic Prefix converts the linear convolution into a circular convolution\n",
    "\n",
    "To understand this fact, let us create two adjacent, a little bit more elaborate, OFDM symbols."
   ]
  },
  {
   "cell_type": "code",
   "execution_count": null,
   "metadata": {
    "deletable": true,
    "editable": true
   },
   "outputs": [],
   "source": [
    "# Generate some random OFDM signals\n",
    "np.random.seed(3)\n",
    "td1 = abs(K*np.fft.ifft(np.random.randn(5)+1j*np.random.randn(5), K))\n",
    "td2 = abs(K*np.fft.ifft(np.random.randn(5)+1j*np.random.randn(5), K))\n",
    "f = max(td1.max(), td2.max())\n",
    "td1 *= 5/f; td2 *= 5/f\n",
    "# Add CP and join two blocks together\n",
    "td1_withCP = addCP(td1, N)\n",
    "td2_withCP = addCP(td2, N)\n",
    "td_full = np.hstack([td1_withCP, td2_withCP])"
   ]
  },
  {
   "cell_type": "markdown",
   "metadata": {
    "deletable": true,
    "editable": true
   },
   "source": [
    "Let's have a look at the resulting signal. As we see, two adjacent symbols, separated by a cyclic prefix, and the cyclic prefix contains a copy of the end of each symbol."
   ]
  },
  {
   "cell_type": "code",
   "execution_count": null,
   "metadata": {
    "deletable": true,
    "editable": true
   },
   "outputs": [],
   "source": [
    "plt.plot(t, td_full)\n",
    "plt.xticks([-K-2*N, -K-N, -N, 0, K])\n",
    "plt.gca().set_xticklabels(['$-K-2N$', '$-K-N$', '$-N$', '$0$', '$N$'])\n",
    "plt.gca().add_patch(patches.Rectangle((-N,0), N, 5, fill=None, hatch='\\\\'))\n",
    "plt.text(-N/2, 2.5, 'CP', ha='center', va='center', fontsize=20)\n",
    "plt.gca().add_patch(patches.Rectangle((-K-2*N,0), N, 5, fill=None, hatch='\\\\'))\n",
    "plt.text(-K-N-N/2, 2.5, 'CP', ha='center', va='center', fontsize=20)\n",
    "plt.annotate(xy=(-N/2, 4), xytext=(K-N/2, 4), text=\"\", **arcArrowUp)\n",
    "plt.annotate(xy=(-K-N-N/2, 4), xytext=(-N-N/2, 4), text=\"\", **arcArrowUp)\n",
    "plt.xlabel('$t$'); plt.ylabel('$x(t)$')\n",
    "plt.show()"
   ]
  },
  {
   "cell_type": "markdown",
   "metadata": {
    "deletable": true,
    "editable": true
   },
   "source": [
    "Now, lets see again what happens, if this signal is linearly convolved with the channel impulse response."
   ]
  },
  {
   "cell_type": "code",
   "execution_count": null,
   "metadata": {
    "deletable": true,
    "editable": true
   },
   "outputs": [],
   "source": [
    "def showOFDMConvolution(shift):\n",
    "    plt.gcf().clear()\n",
    "    ax1 = plt.subplot(211)\n",
    "    t_cyc = np.arange(K+N)-N\n",
    "    h_cyc = h(shift-t_cyc)\n",
    "    plt.plot(t_cyc, h_cyc)\n",
    "    plt.plot(t_cyc, td2_withCP)\n",
    "    plt.plot(t_cyc, h_cyc * td2_withCP)\n",
    "    plt.fill_between(t_cyc, 0, h_cyc * td2_withCP, color='r', alpha=0.5, hatch='//')\n",
    "    plt.xlim((-N, K-1)); plt.ylim((0,6))\n",
    "    plt.xticks([-N, 0, K-1]); plt.gca().set_xticklabels(['$-N_{CP}$', '$0$', '$N$'])\n",
    "    plt.axvline(0, color='k')\n",
    "    plt.gca().add_patch(patches.Rectangle((-N,0), N, 6, fill=None, lw=0, hatch=\"\\\\\"))\n",
    "    plt.text(-N/2, 2.5, \"CP\", ha='center', va='center', fontsize=20)\n",
    "    \n",
    "    ax2 = plt.subplot(212)\n",
    "    t_part = np.arange(K)\n",
    "    h_part = h((shift-t_part)%K)\n",
    "    plt.plot(t_part, h_part)\n",
    "    plt.plot(t_part, td2)\n",
    "    plt.plot(t_part, h_part * td2)\n",
    "    plt.fill_between(t_part, 0, h_part * td2, color='r', alpha=0.5, hatch='//')\n",
    "    plt.xlim((-N, K-1)); plt.ylim((0,6))\n",
    "    plt.xticks([-N, 0, K-1]); plt.gca().set_xticklabels(['$-N_{CP}$', '$0$', '$N$'])\n",
    "    plt.axvline(0, color='k')\n",
    "    plt.gca().add_patch(patches.Rectangle((-N,0), N, 6, fill=None, lw=0, hatch=\"\\\\\"))\n",
    "    plt.text(-N/2, 2.5, \"CP\", ha='center', va='center', fontsize=20)\n",
    "\n",
    "    if shift < L:\n",
    "        con = patches.ConnectionPatch(xyA=(K-L/4, 0.5), xyB=(-L/4, -0.5),\n",
    "                                      coordsA='data', coordsB='data',\n",
    "                                      axesB=ax1, axesA=ax2, clip_on=False,\n",
    "                                      connectionstyle=\"bar,angle=-0,fraction=0.18\",\n",
    "                                      arrowstyle=\"<->\", lw=2)\n",
    "        con.set_annotation_clip(False)\n",
    "        plt.gca().add_artist(con)\n",
    "    plt.tight_layout()\n",
    "    plt.show()"
   ]
  },
  {
   "cell_type": "code",
   "execution_count": null,
   "metadata": {},
   "outputs": [],
   "source": [
    "interact(showOFDMConvolution, shift=(0, K-1));"
   ]
  },
  {
   "cell_type": "markdown",
   "metadata": {
    "deletable": true,
    "editable": true
   },
   "source": [
    "In the top figure we show the linear convolution of the channel with the signal, over the duration of the FFT window which will be used for demodulating the signal. We see, how the channel, when it enters the FFT window, convolves values from the CP region into the FFT window. This operation is still a linear convolution. However, we know that the CP is just a copy of the end of the OFDM symbol. Hence, we can understand the linear convolution over the CP also as a [circular convolution](http://dspillustrations.com/pages/posts/misc/circular-convolution-example.html) within the OFDM FFT window: When the channel impulse response is above the CP area, this is equivalent to the channel impulse response being wrapped around on the FFT window, and smearing the end of the block into the beginning of the block.\n",
    "\n",
    "Again, this naturally only works exactly, if the channel impulse response is shorter than the cyclic prefix. Otherwise, we suffer from inter-symbol interference, which cannot be represented by the circular convolution on the FFT window.\n",
    "\n",
    "Hence, we can write the expression for the received signal within the FFT window also with a circular convolution:\n",
    "\n",
    "$$\\begin{align}y[n] &= \\sum_{n'=0}^{L-1}h[n']\\cdot x[n-n']&&\\text{Linear convolution}\\\\\n",
    "y[n]&=\\sum_{n'=0}^{L-1}h[n']\\cdot x[(n-n')_N]&&\\text{Circular convolution}\\end{align},$$\n",
    "\n",
    "where $(n'-n)_N$ denotes the remainder of dividing $n'-n$ by $N$. It's only this property of OFDM which allows to perform the one-tap equalization with the channel impulse response. The [convolution theorem](https://en.wikipedia.org/wiki/Convolution_theorem \"Wikipedia Link\") in discrete domain states\n",
    "\n",
    "$$\\text{DFT}_N\\{h[n]\\otimes x[n]\\}=H[k]X[k],$$\n",
    "\n",
    "i.e. after performing the DFT over the FFT window we have\n",
    "\n",
    "$$Y[k]=H[k]X[k],$$\n",
    "\n",
    "and we know that $H[k]$ contains the QAM symbols that were sent from the transmitter. Then, we can perform the simple equalization \n",
    "\n",
    "$$\\hat{X}[k]=\\frac{Y[k]}{H[k]}$$\n",
    "\n",
    "to get back to the transmitted data symbols. It's exactly this propertly of OFDM which made it so popular for being used in multipath fading channels."
   ]
  },
  {
   "cell_type": "markdown",
   "metadata": {
    "deletable": true,
    "editable": true
   },
   "source": [
    "## Summary\n",
    "The cyclic prefix (CP) of OFDM provides two benefits:\n",
    "   - It inhibits ISI between subsequent OFDM symbols.\n",
    "   - It turns linear convolution into circular convolution with the FFT window.\n",
    "\n",
    "Only circular convolution allows to apply the convolution theorem and use the single-tap equalizer.\n",
    "\n",
    "The CP only works correctly, if it is longer than the channel impulse response."
   ]
  }
 ],
 "metadata": {
  "kernelspec": {
   "display_name": "Python 3",
   "language": "python",
   "name": "python3"
  },
  "language_info": {
   "codemirror_mode": {
    "name": "ipython",
    "version": 3
   },
   "file_extension": ".py",
   "mimetype": "text/x-python",
   "name": "python",
   "nbconvert_exporter": "python",
   "pygments_lexer": "ipython3",
   "version": "3.11.4"
  },
  "widgets": {
   "state": {
    "add324722fb34a5ca84c96dfd98ed3dc": {
     "views": [
      {
       "cell_index": 22
      }
     ]
    },
    "fc92b1672d944725b98681de082a7c5a": {
     "views": [
      {
       "cell_index": 13
      }
     ]
    }
   },
   "version": "1.2.0"
  }
 },
 "nbformat": 4,
 "nbformat_minor": 0
}
