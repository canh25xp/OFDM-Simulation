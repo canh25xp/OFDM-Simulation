{
 "cells": [
  {
   "cell_type": "code",
   "execution_count": null,
   "metadata": {
    "slideshow": {
     "slide_type": "slide"
    }
   },
   "outputs": [],
   "source": [
    "from manim import *"
   ]
  },
  {
   "cell_type": "markdown",
   "metadata": {},
   "source": [
    "# Bruh"
   ]
  },
  {
   "cell_type": "markdown",
   "metadata": {},
   "source": [
    "lmao"
   ]
  },
  {
   "cell_type": "code",
   "execution_count": null,
   "metadata": {
    "slideshow": {
     "slide_type": "slide"
    }
   },
   "outputs": [],
   "source": [
    "%%manim -qm -v WARNING SquareToCircle\n",
    "\n",
    "class SquareToCircle(Scene):\n",
    "   def construct(self):\n",
    "      square = Square()\n",
    "      circle = Circle()\n",
    "      circle.set_fill(PINK, opacity=0.5)\n",
    "      self.play(Create(square))\n",
    "      self.play(Transform(square, circle))\n",
    "      self.wait()"
   ]
  },
  {
   "cell_type": "code",
   "execution_count": null,
   "metadata": {},
   "outputs": [],
   "source": [
    "%lsmagic"
   ]
  }
 ],
 "metadata": {
  "kernelspec": {
   "display_name": ".venv",
   "language": "python",
   "name": "python3"
  },
  "language_info": {
   "codemirror_mode": {
    "name": "ipython",
    "version": 3
   },
   "file_extension": ".py",
   "mimetype": "text/x-python",
   "name": "python",
   "nbconvert_exporter": "python",
   "pygments_lexer": "ipython3",
   "version": "3.11.4"
  }
 },
 "nbformat": 4,
 "nbformat_minor": 2
}
